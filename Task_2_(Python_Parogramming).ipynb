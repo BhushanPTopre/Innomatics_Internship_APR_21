{
  "nbformat": 4,
  "nbformat_minor": 0,
  "metadata": {
    "colab": {
      "name": "Task 2 (Python Parogramming).ipynb",
      "provenance": [],
      "collapsed_sections": []
    },
    "kernelspec": {
      "name": "python3",
      "display_name": "Python 3"
    },
    "language_info": {
      "name": "python"
    }
  },
  "cells": [
    {
      "cell_type": "markdown",
      "metadata": {
        "id": "zr7U8XWLpLAX"
      },
      "source": [
        "Question 1\n",
        "Let's learn about list comprehensions! You are given three integers  and  representing the dimensions of a cuboid along with an integer . Print a list of all possible coordinates given by  on a 3D grid where the sum of i + j +k is not equal to n . Here, . Please use list comprehensions rather than multiple loops, as a learning exercise.\n",
        "\n",
        "Example\n",
        "\n",
        "\n",
        "\n",
        "\n",
        "All permutations of  are:\n",
        ".\n",
        "\n",
        "Print an array of the elements that do not sum to .\n",
        "\n",
        "\n",
        "Input Format\n",
        "\n",
        "Four integers  and , each on a separate line.\n",
        "\n",
        "Constraints\n",
        "\n",
        "Print the list in lexicographic increasing order.\n",
        "\n",
        "Sample Input 0\n",
        "\n",
        "1\n",
        "1\n",
        "1\n",
        "2\n",
        "Sample Output 0\n",
        "\n",
        "[[0, 0, 0], [0, 0, 1], [0, 1, 0], [1, 0, 0], [1, 1, 1]]\n",
        "Explanation 0\n",
        "\n",
        "Each variable  and  will have values of  or . All permutations of lists in the form .\n",
        "Remove all arrays that sum to  to leave only the valid permutations."
      ]
    },
    {
      "cell_type": "code",
      "metadata": {
        "colab": {
          "base_uri": "https://localhost:8080/"
        },
        "id": "I7WgFg0zrSWM",
        "outputId": "eb013158-ff15-45be-f6e0-115809ae4a39"
      },
      "source": [
        " x = int(input())\n",
        " y = int(input())\n",
        " z = int(input())\n",
        " n = int(input())\n",
        " print([[p,q,r] for p in range(x + 1) for q in range(y + 1) for r in range(z + 1) if(p+q+r)!=n ]) "
      ],
      "execution_count": null,
      "outputs": [
        {
          "output_type": "stream",
          "text": [
            "3\n",
            "4\n",
            "2\n",
            "9\n",
            "[[0, 0, 0], [0, 0, 1], [0, 0, 2], [0, 1, 0], [0, 1, 1], [0, 1, 2], [0, 2, 0], [0, 2, 1], [0, 2, 2], [0, 3, 0], [0, 3, 1], [0, 3, 2], [0, 4, 0], [0, 4, 1], [0, 4, 2], [1, 0, 0], [1, 0, 1], [1, 0, 2], [1, 1, 0], [1, 1, 1], [1, 1, 2], [1, 2, 0], [1, 2, 1], [1, 2, 2], [1, 3, 0], [1, 3, 1], [1, 3, 2], [1, 4, 0], [1, 4, 1], [1, 4, 2], [2, 0, 0], [2, 0, 1], [2, 0, 2], [2, 1, 0], [2, 1, 1], [2, 1, 2], [2, 2, 0], [2, 2, 1], [2, 2, 2], [2, 3, 0], [2, 3, 1], [2, 3, 2], [2, 4, 0], [2, 4, 1], [2, 4, 2], [3, 0, 0], [3, 0, 1], [3, 0, 2], [3, 1, 0], [3, 1, 1], [3, 1, 2], [3, 2, 0], [3, 2, 1], [3, 2, 2], [3, 3, 0], [3, 3, 1], [3, 3, 2], [3, 4, 0], [3, 4, 1]]\n"
          ],
          "name": "stdout"
        }
      ]
    },
    {
      "cell_type": "markdown",
      "metadata": {
        "id": "zZj3Y0AyrvKs"
      },
      "source": [
        "Question 2\n",
        "Given the participants' score sheet for your University Sports Day, you are required to find the runner-up score. You are given  scores. Store them in a list and find the score of the runner-up.\n",
        "\n",
        "Input Format\n",
        "\n",
        "The first line contains . The second line contains an array   of  integers each separated by a space.\n",
        "\n",
        "Constraints\n",
        "\n",
        "Output Format\n",
        "\n",
        "Print the runner-up score.\n",
        "\n",
        "Sample Input 0\n",
        "\n",
        "5\n",
        "2 3 6 6 5\n",
        "Sample Output 0\n",
        "\n",
        "5\n",
        "Explanation 0\n",
        "\n",
        "Given list is . The maximum score is , second maximum is . Hence, we print  as the runner-up score."
      ]
    },
    {
      "cell_type": "code",
      "metadata": {
        "colab": {
          "base_uri": "https://localhost:8080/"
        },
        "id": "iA24snUwrTag",
        "outputId": "c6ca0e9a-e329-4691-caf4-e737a8fd2745"
      },
      "source": [
        "n = int(input())\n",
        "arr = map(int, input().split())\n",
        "s = set(arr)\n",
        "l = list(s)\n",
        "order = sorted(l)\n",
        "print(order[-2])"
      ],
      "execution_count": null,
      "outputs": [
        {
          "output_type": "stream",
          "text": [
            "6\n",
            "1 2 3 4 5 6\n",
            "5\n"
          ],
          "name": "stdout"
        }
      ]
    },
    {
      "cell_type": "markdown",
      "metadata": {
        "id": "yLRw02NUtdOz"
      },
      "source": [
        "Question 3\n",
        "Given the names and grades for each student in a class of  students, store them in a nested list and print the name(s) of any student(s) having the second lowest grade.\n",
        "\n",
        "Note: If there are multiple students with the second lowest grade, order their names alphabetically and print each name on a new line.\n",
        "\n",
        "Example\n",
        "\n",
        "The ordered list of scores is , so the second lowest score is . There are two students with that score: . Ordered alphabetically, the names are printed as:\n",
        "\n",
        "alpha\n",
        "beta\n",
        "Input Format\n",
        "\n",
        "The first line contains an integer, , the number of students.\n",
        "The  subsequent lines describe each student over  lines.\n",
        "- The first line contains a student's name.\n",
        "- The second line contains their grade."
      ]
    },
    {
      "cell_type": "code",
      "metadata": {
        "id": "6u7lT00HLtkj"
      },
      "source": [
        "# unable to solve by me (Taking help from google)\n",
        "score_list = [] \n",
        "for _ in range(int(input())):\n",
        "    name = input()\n",
        "    score = float(input())\n",
        "        \n",
        "    score_list.append([name, score])\n",
        "second_highest = sorted(set([score for name, score in score_list]))[1]\n",
        "print('\\n'.join(sorted([name for name, score in score_list if score == second_highest]))) "
      ],
      "execution_count": null,
      "outputs": []
    },
    {
      "cell_type": "markdown",
      "metadata": {
        "id": "KRsXfPmp215H"
      },
      "source": [
        "Question 4\n",
        "The provided code stub will read in a dictionary containing key/value pairs of name:[marks] for a list of students. Print the average of the marks array for the student name provided, showing 2 places after the decimal.\n",
        "\n",
        "Example\n",
        "\n",
        "\n",
        "\n",
        "\n",
        "The query_name is 'beta'. beta's average score is .\n",
        "\n",
        "Input Format\n",
        "\n",
        "The first line contains the integer , the number of students' records. The next  lines contain the names and marks obtained by a student, each value separated by a space. The final line contains query_name, the name of a student to query."
      ]
    },
    {
      "cell_type": "code",
      "metadata": {
        "id": "5pV7IdOUy9Mn"
      },
      "source": [
        "#  unable to solve by me (Taking as it is code from google and try to learn it)\n",
        "   n = int(input())\n",
        "\n",
        "student_marks = {}\n",
        "\n",
        "for _ in range(n):\n",
        "    name, *line = input().split()\n",
        "    scores = list(map(float, line))\n",
        "    student_marks[name] = scores\n",
        "query_name = input()\n",
        "\n",
        "print(\"{0:.2f}\".format(round(sum(student_marks[query_name]) / len(student_marks[query_name]), 2)))\n"
      ],
      "execution_count": null,
      "outputs": []
    },
    {
      "cell_type": "markdown",
      "metadata": {
        "id": "aSuXMC8gSIJo"
      },
      "source": [
        "Question 5\n",
        "Task\n",
        "Given an integer, , and  space-separated integers as input, create a tuple, , of those  integers. Then compute and print the result of .\n",
        "\n",
        "Note: hash() is one of the functions in the __builtins__ module, so it need not be imported.\n",
        "\n",
        "Input Format\n",
        "\n",
        "The first line contains an integer, , denoting the number of elements in the tuple.\n",
        "The second line contains  space-separated integers describing the elements in tuple .\n",
        "\n",
        "Output Format\n",
        "\n",
        "Print the result of .\n",
        "\n",
        "Sample Input 0\n",
        "\n",
        "2\n",
        "1 2\n",
        "Sample Output 0\n",
        "\n",
        "3713081631934410656"
      ]
    },
    {
      "cell_type": "code",
      "metadata": {
        "id": "EA8ZpIpD252A"
      },
      "source": [
        "n = int(input())\n",
        "integer_list = tuple(map(int, input().split()))\n",
        "print(hash(integer_list))"
      ],
      "execution_count": null,
      "outputs": []
    },
    {
      "cell_type": "markdown",
      "metadata": {
        "id": "a3VAZQjdTHVI"
      },
      "source": [
        "Question 6\n",
        "A set is an unordered collection of elements without duplicate entries.\n",
        "When printed, iterated or converted into a sequence, its elements will appear in an arbitrary order.\n",
        "Basically, sets are used for membership testing and eliminating duplicate entries.\n",
        "\n",
        "Task\n",
        "\n",
        "Now, let's use our knowledge of sets and help Mickey.\n",
        "\n",
        "Ms. Gabriel Williams is a botany professor at District College. One day, she asked her student Mickey to compute the average of all the plants with distinct heights in her greenhouse.\n",
        "\n",
        "Formula used:\n",
        "\n",
        "Function Description\n",
        "\n",
        "Complete the average function in the editor below.\n",
        "\n",
        "average has the following parameters:\n",
        "\n",
        "int arr: an array of integers\n",
        "Returns\n",
        "\n",
        "float: the resulting float value rounded to 3 places after the decimal\n",
        "Input Format\n",
        "\n",
        "The first line contains the integer, , the size of .\n",
        "The second line contains the  space-separated integers, ."
      ]
    },
    {
      "cell_type": "code",
      "metadata": {
        "id": "vBDDOq3wTLV8"
      },
      "source": [
        "def average(array):\n",
        "    # your code goes here\n",
        "    sum_arr = sum(set(array))\n",
        "    len_arr = len(set(array))\n",
        "    result = sum_arr / len_arr\n",
        "    return result;\n",
        "\n",
        "if __name__ == '__main__':\n",
        "    n = int(input())\n",
        "    arr = list(map(int, input().split()))\n",
        "    result = average(arr)\n",
        "    print(result)"
      ],
      "execution_count": null,
      "outputs": []
    },
    {
      "cell_type": "markdown",
      "metadata": {
        "id": "RTIXzpg0TTuA"
      },
      "source": [
        "Question 7\n",
        "There is an array of  integers. There are also  disjoint sets,  and , each containing  integers. You like all the integers in set  and dislike all the integers in set . Your initial happiness is . For each  integer in the array, if , you add  to your happiness. If , you add  to your happiness. Otherwise, your happiness does not change. Output your final happiness at the end.\n",
        "\n",
        "Note: Since  and  are sets, they have no repeated elements. However, the array might contain duplicate elements.\n",
        "\n",
        "Constraints\n",
        "\n",
        "\n",
        "\n",
        "Input Format\n",
        "\n",
        "The first line contains integers  and  separated by a space.\n",
        "The second line contains  integers, the elements of the array.\n",
        "The third and fourth lines contain  integers,  and , respectively.\n",
        "\n",
        "Output Format\n",
        "\n",
        "Output a single integer, your total happiness."
      ]
    },
    {
      "cell_type": "code",
      "metadata": {
        "id": "vEXq3gBmUKio"
      },
      "source": [
        "inp = input().split()\n",
        "p = int(inp[0])\n",
        "q = int(inp[1]) \n",
        "storage = list()\n",
        "count = 0\n",
        "storage = list(map(int, input().strip().split()))\n",
        "A = set(map(int, input().strip().split()))\n",
        "B = set(map(int, input().strip().split()))\n",
        "for i in storage:\n",
        "    if i in A:\n",
        "        count = count+1\n",
        "    if i in B:\n",
        "        count = count-1\n",
        "print(count)"
      ],
      "execution_count": null,
      "outputs": []
    },
    {
      "cell_type": "markdown",
      "metadata": {
        "id": "h40dLKt7UQig"
      },
      "source": [
        "Question 8 \n",
        "Given  sets of integers,  and , print their symmetric difference in ascending order. The term symmetric difference indicates those values that exist in either  or  but do not exist in both.\n",
        "\n",
        "Input Format\n",
        "\n",
        "The first line of input contains an integer, .\n",
        "The second line contains  space-separated integers.\n",
        "The third line contains an integer, .\n",
        "The fourth line contains  space-separated integers.\n",
        "\n",
        "Output Format\n",
        "\n",
        "Output the symmetric difference integers in ascending order, one per line.\n",
        "\n",
        "Sample Input\n",
        "\n",
        "STDIN       Function\n",
        "-----       --------\n",
        "4           set a size M = 4\n",
        "2 4 5 9     a = {2, 4, 5, 9}\n",
        "4           set b size N = 4\n",
        "2 4 11 12   b = {2, 4, 11, 12}\n",
        "Sample Output\n",
        "\n",
        "5\n",
        "9\n",
        "11\n",
        "12"
      ]
    },
    {
      "cell_type": "code",
      "metadata": {
        "id": "HntFUJSOVzuo"
      },
      "source": [
        "N = int(input())\n",
        "nset = set(map(int, input().split()))\n",
        "O = int(input())\n",
        "oset = set(map(int, input().split()))\n",
        "ndef = nset.difference(oset)\n",
        "odef = oset.difference(nset)    \n",
        "result = ndef.union(odef)\n",
        "for i in sorted(list(result)):\n",
        "    print(i)"
      ],
      "execution_count": null,
      "outputs": []
    },
    {
      "cell_type": "markdown",
      "metadata": {
        "id": "LjFUZRGmV375"
      },
      "source": [
        "Question 9 \n",
        "Apply your knowledge of the .add() operation to help your friend Rupal.\n",
        "\n",
        "Rupal has a huge collection of country stamps. She decided to count the total number of distinct country stamps in her collection. She asked for your help. You pick the stamps one by one from a stack of  country stamps.\n",
        "\n",
        "Find the total number of distinct country stamps.\n",
        "\n",
        "Input Format\n",
        "\n",
        "The first line contains an integer , the total number of country stamps.\n",
        "The next  lines contains the name of the country where the stamp is from.\n",
        "Constraints\n",
        "\n",
        "\n",
        "Output Format\n",
        "\n",
        "Output the total number of distinct country stamps on a single line.\n",
        "\n",
        "Sample Input\n",
        "\n",
        "7\n",
        "UK\n",
        "China\n",
        "USA\n",
        "France\n",
        "New Zealand\n",
        "UK\n",
        "France \n",
        "Sample Output\n",
        "\n",
        "5"
      ]
    },
    {
      "cell_type": "code",
      "metadata": {
        "id": "-k58ElG7WVoL"
      },
      "source": [
        "N = int(input())\n",
        "cont = set()\n",
        "\n",
        "for i in range(N):\n",
        "    cont.add(input())\n",
        "\n",
        "print(len(cont))"
      ],
      "execution_count": null,
      "outputs": []
    },
    {
      "cell_type": "markdown",
      "metadata": {
        "id": "m4TozZNzWbwr"
      },
      "source": [
        "Question 10\n",
        "\n",
        "Task\n",
        "You have a non-empty set , and you have to execute  commands given in  lines.\n",
        "\n",
        "The commands will be pop, remove and discard.\n",
        "\n",
        "Input Format\n",
        "\n",
        "The first line contains integer , the number of elements in the set .\n",
        "The second line contains  space separated elements of set . All of the elements are non-negative integers, less than or equal to 9.\n",
        "The third line contains integer , the number of commands.\n",
        "The next  lines contains either pop, remove and/or discard commands followed by their associated value.\n",
        "\n",
        "Constraints\n",
        "\n",
        "\n",
        "\n",
        "Output Format\n",
        "\n",
        "Print the sum of the elements of set  on a single line.\n",
        "\n",
        "Sample Input\n",
        "\n",
        "9\n",
        "1 2 3 4 5 6 7 8 9\n",
        "10\n",
        "pop\n",
        "remove 9\n",
        "discard 9\n",
        "discard 8\n",
        "remove 7\n",
        "pop \n",
        "discard 6\n",
        "remove 5\n",
        "pop \n",
        "discard 5\n",
        "Sample Output\n",
        "\n",
        "4\n",
        "Explanation\n",
        "\n",
        "After completing these  operations on the set, we get set. Hence, the sum is .\n",
        "\n",
        "Note: Convert the elements of set s to integers while you are assigning them. To ensure the proper input of the set, we have added the first two lines of code to the editor."
      ]
    },
    {
      "cell_type": "code",
      "metadata": {
        "id": "Wzu_Nz3NW39e"
      },
      "source": [
        "n = int(input())\n",
        "s = set(map(int, input().split())) \n",
        "\n",
        "no = int(input())\n",
        "for i in range(no):\n",
        "    ip = input().split()\n",
        "    if ip[0]==\"remove\":\n",
        "        s.remove(int(ip[1]))\n",
        "    elif ip[0]==\"discard\":\n",
        "        s.discard(int(ip[1]))\n",
        "    else :\n",
        "        s.pop()\n",
        "print(sum(list(s)))"
      ],
      "execution_count": null,
      "outputs": []
    },
    {
      "cell_type": "markdown",
      "metadata": {
        "id": "eCntxTReXCJQ"
      },
      "source": [
        "Question 11 \n",
        "\n",
        "Task\n",
        "The students of District College have subscriptions to English and French newspapers. Some students have subscribed only to English, some have subscribed to only French and some have subscribed to both newspapers.\n",
        "\n",
        "You are given two sets of student roll numbers. One set has subscribed to the English newspaper, and the other set is subscribed to the French newspaper. The same student could be in both sets. Your task is to find the total number of students who have subscribed to at least one newspaper.\n",
        "\n",
        "Input Format\n",
        "\n",
        "The first line contains an integer, , the number of students who have subscribed to the English newspaper.\n",
        "The second line contains  space separated roll numbers of those students.\n",
        "The third line contains , the number of students who have subscribed to the French newspaper.\n",
        "The fourth line contains  space separated roll numbers of those students.\n",
        "\n",
        "Constraints\n",
        "\n",
        "\n",
        "Output Format\n",
        "\n",
        "Output the total number of students who have at least one subscription."
      ]
    },
    {
      "cell_type": "code",
      "metadata": {
        "id": "q2xsqxLAXptv"
      },
      "source": [
        "N1 = int(input())\n",
        "st1 = set(input().split());\n",
        "\n",
        "N2 = int(input())\n",
        "st2 = set(input().split());\n",
        "\n",
        "st3 = st1.union(st2)\n",
        "\n",
        "print(len(st3))"
      ],
      "execution_count": null,
      "outputs": []
    },
    {
      "cell_type": "markdown",
      "metadata": {
        "id": "Cku0-2Q0Xuzo"
      },
      "source": [
        "Question 12 \n",
        "\n",
        "Task\n",
        "The students of District College have subscriptions to English and French newspapers. Some students have subscribed only to English, some have subscribed only to French, and some have subscribed to both newspapers.\n",
        "\n",
        "You are given two sets of student roll numbers. One set has subscribed to the English newspaper, one set has subscribed to the French newspaper. Your task is to find the total number of students who have subscribed to both newspapers.\n",
        "\n",
        "Input Format\n",
        "\n",
        "The first line contains , the number of students who have subscribed to the English newspaper.\n",
        "The second line contains  space separated roll numbers of those students.\n",
        "The third line contains , the number of students who have subscribed to the French newspaper.\n",
        "The fourth line contains  space separated roll numbers of those students.\n",
        "\n",
        "Constraints\n",
        "\n",
        "\n",
        "Output Format\n",
        "\n",
        "Output the total number of students who have subscriptions to both English and French newspapers."
      ]
    },
    {
      "cell_type": "code",
      "metadata": {
        "id": "Mqb7pfITXxA3"
      },
      "source": [
        "E = int(input())\n",
        "English = set(input().split())\n",
        "\n",
        "F = int(input())\n",
        "French = set(input().split())\n",
        "\n",
        "print(len(English & French))"
      ],
      "execution_count": null,
      "outputs": []
    },
    {
      "cell_type": "markdown",
      "metadata": {
        "id": "lvaMRYYkYdeb"
      },
      "source": [
        "Question 14 \n",
        "Task\n",
        "Students of District College have a subscription to English and French newspapers. Some students have subscribed to only the English newspaper, some have subscribed to only the French newspaper, and some have subscribed to both newspapers.\n",
        "\n",
        "You are given two sets of student roll numbers. One set has subscribed to the English newspaper, and one set has subscribed to the French newspaper. Your task is to find the total number of students who have subscribed to only English newspapers.\n",
        "\n",
        "Input Format\n",
        "\n",
        "The first line contains the number of students who have subscribed to the English newspaper.\n",
        "The second line contains the space separated list of student roll numbers who have subscribed to the English newspaper.\n",
        "The third line contains the number of students who have subscribed to the French newspaper.\n",
        "The fourth line contains the space separated list of student roll numbers who have subscribed to the French newspaper.\n",
        "\n",
        "Constraints\n",
        "\n",
        "\n",
        "Output Format\n",
        "\n",
        "Output the total number of students who are subscribed to the English newspaper only."
      ]
    },
    {
      "cell_type": "code",
      "metadata": {
        "id": "G21guBIzZlV2"
      },
      "source": [
        "E = int(input())\n",
        "English = set(map(int, input().split()))\n",
        "\n",
        "F = int(input())\n",
        "French = set(map(int , input().split()))\n",
        "\n",
        "print(len((English.difference(French))))"
      ],
      "execution_count": null,
      "outputs": []
    },
    {
      "cell_type": "markdown",
      "metadata": {
        "id": "2zvLpSwYZolu"
      },
      "source": [
        "Question 15 \n",
        "\n",
        "Task\n",
        "Students of District College have subscriptions to English and French newspapers. Some students have subscribed to English only, some have subscribed to French only, and some have subscribed to both newspapers.\n",
        "\n",
        "You are given two sets of student roll numbers. One set has subscribed to the English newspaper, and one set has subscribed to the French newspaper. Your task is to find the total number of students who have subscribed to either the English or the French newspaper but not both.\n",
        "\n",
        "Input Format\n",
        "\n",
        "The first line contains the number of students who have subscribed to the English newspaper.\n",
        "The second line contains the space separated list of student roll numbers who have subscribed to the English newspaper.\n",
        "The third line contains the number of students who have subscribed to the French newspaper.\n",
        "The fourth line contains the space separated list of student roll numbers who have subscribed to the French newspaper.\n",
        "\n",
        "Constraints\n",
        "\n",
        "\n",
        "Output Format\n",
        "\n",
        "Output total number of students who have subscriptions to the English or the French newspaper but not both."
      ]
    },
    {
      "cell_type": "code",
      "metadata": {
        "id": "-gW20mkfaIKM"
      },
      "source": [
        "E = int(input())\n",
        "English = set(input().split())\n",
        "\n",
        "F = int(input())\n",
        "French = set(input().split())\n",
        "\n",
        "print(len(English ^ French))"
      ],
      "execution_count": null,
      "outputs": []
    },
    {
      "cell_type": "markdown",
      "metadata": {
        "id": "QdpTj-21aMTc"
      },
      "source": [
        "Question 16 \n",
        "TASK\n",
        "You are given a set  and  number of other sets. These  number of sets have to perform some specific mutation operations on set .\n",
        "\n",
        "Your task is to execute those operations and print the sum of elements from set .\n",
        "\n",
        "Input Format\n",
        "\n",
        "The first line contains the number of elements in set .\n",
        "The second line contains the space separated list of elements in set .\n",
        "The third line contains integer , the number of other sets.\n",
        "The next  lines are divided into  parts containing two lines each.\n",
        "The first line of each part contains the space separated entries of the operation name and the length of the other set.\n",
        "The second line of each part contains space separated list of elements in the other set.\n",
        "\n",
        " len(set(A)) \n",
        " len(otherSets) \n",
        "\n",
        "Output Format\n",
        "\n",
        "Output the sum of elements in set ."
      ]
    },
    {
      "cell_type": "code",
      "metadata": {
        "id": "MeNogMjRb0Fi"
      },
      "source": [
        "a = int(input())\n",
        "A = set(map(int, input().split()))\n",
        "for i in range(int(input())):\n",
        "    s, b = input().split()\n",
        "    if s == 'intersection_update':\n",
        "        A &= set(map(int, input().split()))\n",
        "    elif s == 'update':\n",
        "        A |= set(map(int, input().split()))\n",
        "    elif s == 'symmetric_difference_update':\n",
        "        A ^= set(map(int, input().split()))\n",
        "    else:\n",
        "        A -= set(map(int, input().split()))\n",
        "print(sum(A))"
      ],
      "execution_count": null,
      "outputs": []
    },
    {
      "cell_type": "markdown",
      "metadata": {
        "id": "U7jjwnGKb4hy"
      },
      "source": [
        "Question 17 \n",
        "\n",
        "Mr. Anant Asankhya is the manager at the INFINITE hotel. The hotel has an infinite amount of rooms.\n",
        "\n",
        "One fine day, a finite number of tourists come to stay at the hotel.\n",
        "The tourists consist of:\n",
        "→ A Captain.\n",
        "→ An unknown group of families consisting of  members per group where  ≠ .\n",
        "\n",
        "The Captain was given a separate room, and the rest were given one room per group.\n",
        "\n",
        "Mr. Anant has an unordered list of randomly arranged room entries. The list consists of the room numbers for all of the tourists. The room numbers will appear  times per group except for the Captain's room.\n",
        "\n",
        "Mr. Anant needs you to help him find the Captain's room number.\n",
        "The total number of tourists or the total number of groups of families is not known to you.\n",
        "You only know the value of  and the room number list.\n",
        "\n",
        "Input Format\n",
        "\n",
        "The first line consists of an integer, , the size of each group.\n",
        "The second line contains the unordered elements of the room number list.\n",
        "\n",
        "\n",
        "Constraints\n",
        "\n",
        "\n",
        "Output Format\n",
        "\n",
        "Output the Captain's room number."
      ]
    },
    {
      "cell_type": "code",
      "metadata": {
        "id": "BUuAXDSCcdFm"
      },
      "source": [
        "N = int(input())\n",
        "st = map(int, input().split())\n",
        "st = sorted(st)\n",
        "\n",
        "for i in range(len(st)):\n",
        "    if(i != len(st)-1):\n",
        "        if(st[i]!=st[i-1] and st[i]!=st[i+1]):\n",
        "            print(st[i])\n",
        "            break;\n",
        "    else:\n",
        "        print(st[i])"
      ],
      "execution_count": null,
      "outputs": []
    },
    {
      "cell_type": "markdown",
      "metadata": {
        "id": "ZW4TpxNYciR3"
      },
      "source": [
        "Question 18 \n",
        "You are given two sets,  and .\n",
        "Your job is to find whether set  is a subset of set .\n",
        "\n",
        "If set  is subset of set , print True.\n",
        "If set  is not a subset of set , print False.\n",
        "\n",
        "Input Format\n",
        "\n",
        "The first line will contain the number of test cases, .\n",
        "The first line of each test case contains the number of elements in set .\n",
        "The second line of each test case contains the space separated elements of set .\n",
        "The third line of each test case contains the number of elements in set .\n",
        "The fourth line of each test case contains the space separated elements of set .\n",
        "\n"
      ]
    },
    {
      "cell_type": "code",
      "metadata": {
        "id": "5-bZDITkdB5V"
      },
      "source": [
        "N = int(input())\n",
        "\n",
        "for _ in range(N):\n",
        "    a = input()\n",
        "    A = set(input().split())\n",
        "    b = int(input())\n",
        "    B = set(input().split())\n",
        "    print(A.issubset(B))"
      ],
      "execution_count": null,
      "outputs": []
    },
    {
      "cell_type": "markdown",
      "metadata": {
        "id": "-Qd0e7f6dorQ"
      },
      "source": [
        "Question 19 \n",
        "You are given a set  and  other sets.\n",
        "Your job is to find whether set  is a strict superset of each of the  sets.\n",
        "\n",
        "Print True, if  is a strict superset of each of the  sets. Otherwise, print False.\n",
        "\n",
        "A strict superset has at least one element that does not exist in its subset.\n",
        "\n",
        "Example\n",
        "Set is a strict superset of set.\n",
        "Set is not a strict superset of set.\n",
        "Set is not a strict superset of set.\n",
        "\n",
        "Input Format\n",
        "\n",
        "The first line contains the space separated elements of set .\n",
        "The second line contains integer , the number of other sets.\n",
        "The next  lines contains the space separated elements of the other sets.\n",
        "\n",
        "\n",
        "\n"
      ]
    },
    {
      "cell_type": "code",
      "metadata": {
        "id": "29rVJr8pdqhZ"
      },
      "source": [
        "st = set(input().split())\n",
        "N = int(input())\n",
        "ans = True\n",
        "\n",
        "for i in range(N):\n",
        "    st2 = set(input().split())\n",
        "    if not st2.issubset(st):\n",
        "        ans = False\n",
        "    if len(st2) >= len(st):\n",
        "        ans = False\n",
        "\n",
        "print(ans)"
      ],
      "execution_count": null,
      "outputs": []
    }
  ]
}