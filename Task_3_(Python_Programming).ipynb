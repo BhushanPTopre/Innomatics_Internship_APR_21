{
  "nbformat": 4,
  "nbformat_minor": 0,
  "metadata": {
    "colab": {
      "name": "Task-3 (Python Programming).ipynb",
      "provenance": []
    },
    "kernelspec": {
      "name": "python3",
      "display_name": "Python 3"
    },
    "language_info": {
      "name": "python"
    }
  },
  "cells": [
    {
      "cell_type": "markdown",
      "metadata": {
        "id": "PNUq96IHFteS"
      },
      "source": [
        "Question 1\n",
        "\n",
        "Task\n",
        "You are given a complex . Your task is to convert it to polar coordinates.\n",
        "\n",
        "Input Format\n",
        "\n",
        "A single line containing the complex number . Note: complex() function can be used in python to convert the input as a complex number.\n",
        "\n",
        "Constraints\n",
        "\n",
        "Given number is a valid complex number\n",
        "\n",
        "Output Format\n",
        "\n",
        "Output two lines:\n",
        "The first line should contain the value of .\n",
        "The second line should contain the value of ."
      ]
    },
    {
      "cell_type": "code",
      "metadata": {
        "id": "MOEgj05LGI3D"
      },
      "source": [
        "import cmath;\n",
        "\n",
        "n = complex(input())\n",
        "z = complex(n)\n",
        "\n",
        "print(cmath.polar(z)[0])\n",
        "print(cmath.polar(z)[1])"
      ],
      "execution_count": null,
      "outputs": []
    },
    {
      "cell_type": "markdown",
      "metadata": {
        "id": "Ni0f8ZqyGNxM"
      },
      "source": [
        "*Question* 2 \n"
      ]
    },
    {
      "cell_type": "code",
      "metadata": {
        "colab": {
          "base_uri": "https://localhost:8080/"
        },
        "id": "6yctoIvPcFsY",
        "outputId": "0283321d-d2a7-4154-f2a3-ca162deac769"
      },
      "source": [
        "import math \n",
        "AB = int(input()) \n",
        "BC = int(input()) \n",
        "print(str(int(round(math.degrees(math.atan2(AB,BC)))))+str(chr(176)))"
      ],
      "execution_count": 8,
      "outputs": [
        {
          "output_type": "stream",
          "text": [
            "10\n",
            "10\n",
            "45°\n"
          ],
          "name": "stdout"
        }
      ]
    },
    {
      "cell_type": "markdown",
      "metadata": {
        "id": "uo0C_XHFXhXo"
      },
      "source": [
        "Question 3\n",
        "\n",
        "You are given a positive integer .\n",
        "Your task is to print a palindromic triangle of size .\n",
        "\n",
        "For example, a palindromic triangle of size  is:\n",
        "\n",
        "1\n",
        "121\n",
        "12321\n",
        "1234321\n",
        "123454321\n",
        "You can't take more than two lines. The first line (a for-statement) is already written for you.\n",
        "You have to complete the code using exactly one print statement.\n",
        "\n",
        "Note:\n",
        "Using anything related to strings will give a score of .\n",
        "Using more than one for-statement will give a score of .\n",
        "\n",
        "Input Format\n",
        "\n",
        "A single line of input containing the integer ."
      ]
    },
    {
      "cell_type": "code",
      "metadata": {
        "colab": {
          "base_uri": "https://localhost:8080/"
        },
        "id": "9uZrZJjHXkAB",
        "outputId": "b69b8f7c-7c62-478b-aa44-0c23566de64a"
      },
      "source": [
        "for i in range(1,int(input())+1): #More than 2 lines will result in 0 score. Do not \n",
        "    print(int(((10**i-1)/(9))**2))"
      ],
      "execution_count": 2,
      "outputs": [
        {
          "output_type": "stream",
          "text": [
            "5\n",
            "1\n",
            "121\n",
            "12321\n",
            "1234321\n",
            "123454321\n"
          ],
          "name": "stdout"
        }
      ]
    },
    {
      "cell_type": "markdown",
      "metadata": {
        "id": "dasso9FLYo79"
      },
      "source": [
        "Question 4"
      ]
    },
    {
      "cell_type": "code",
      "metadata": {
        "colab": {
          "base_uri": "https://localhost:8080/"
        },
        "id": "4idCUPVJYR8b",
        "outputId": "516e1d56-3735-477b-d0eb-17f59afbc598"
      },
      "source": [
        "p = int(input())\n",
        "q = int(input())\n",
        "print(p//q)\n",
        "print(p%q)\n",
        "print(divmod(p,q))"
      ],
      "execution_count": 3,
      "outputs": [
        {
          "output_type": "stream",
          "text": [
            "177\n",
            "10\n",
            "17\n",
            "7\n",
            "(17, 7)\n"
          ],
          "name": "stdout"
        }
      ]
    },
    {
      "cell_type": "markdown",
      "metadata": {
        "id": "GbEOZK6zZQYC"
      },
      "source": [
        "Question 5"
      ]
    },
    {
      "cell_type": "code",
      "metadata": {
        "colab": {
          "base_uri": "https://localhost:8080/"
        },
        "id": "mq5lKWsfZI3V",
        "outputId": "97052740-eb2d-43e6-9178-a886588d7ead"
      },
      "source": [
        "x = int(input())\n",
        "y = int(input())\n",
        "z = int(input())\n",
        "print(pow(x,y))\n",
        "print(pow(x,y,z))"
      ],
      "execution_count": 4,
      "outputs": [
        {
          "output_type": "stream",
          "text": [
            "3\n",
            "4\n",
            "5\n",
            "81\n",
            "1\n"
          ],
          "name": "stdout"
        }
      ]
    },
    {
      "cell_type": "markdown",
      "metadata": {
        "id": "Q9VAhOXBZzPV"
      },
      "source": [
        "Question 6\n"
      ]
    },
    {
      "cell_type": "code",
      "metadata": {
        "colab": {
          "base_uri": "https://localhost:8080/"
        },
        "id": "lQYFTuxSZ3Ok",
        "outputId": "e3cf52c8-be57-40f3-8fed-34bb15735865"
      },
      "source": [
        "a = int(input())\n",
        "b = int(input())\n",
        "c = int(input())\n",
        "d = int(input())\n",
        "\n",
        "print(a**b + c**d)"
      ],
      "execution_count": 6,
      "outputs": [
        {
          "output_type": "stream",
          "text": [
            "9\n",
            "29\n",
            "7\n",
            "27\n",
            "4710194409608608369201743232\n",
            "4710194409608608369201743232\n"
          ],
          "name": "stdout"
        }
      ]
    },
    {
      "cell_type": "markdown",
      "metadata": {
        "id": "4Jr4b5xLanJV"
      },
      "source": [
        "Question 7 "
      ]
    },
    {
      "cell_type": "code",
      "metadata": {
        "colab": {
          "base_uri": "https://localhost:8080/"
        },
        "id": "r_Cqw5GXbdbS",
        "outputId": "715824e8-6805-4159-c819-6261b7a8e983"
      },
      "source": [
        "for i in range(1,int(input())): #More than 2 lines will result in 0 score. Do not leave a blank line also\n",
        "    print(int(i * 10**i / 9))"
      ],
      "execution_count": 7,
      "outputs": [
        {
          "output_type": "stream",
          "text": [
            "5\n",
            "1\n",
            "22\n",
            "333\n",
            "4444\n"
          ],
          "name": "stdout"
        }
      ]
    },
    {
      "cell_type": "code",
      "metadata": {
        "id": "cJRuk8tubfSu"
      },
      "source": [
        ""
      ],
      "execution_count": null,
      "outputs": []
    }
  ]
}