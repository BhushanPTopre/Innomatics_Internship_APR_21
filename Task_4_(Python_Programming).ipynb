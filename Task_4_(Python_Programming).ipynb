{
  "nbformat": 4,
  "nbformat_minor": 0,
  "metadata": {
    "colab": {
      "name": "Task-4 (Python Programming).ipynb",
      "provenance": [],
      "collapsed_sections": []
    },
    "kernelspec": {
      "name": "python3",
      "display_name": "Python 3"
    },
    "language_info": {
      "name": "python"
    }
  },
  "cells": [
    {
      "cell_type": "markdown",
      "metadata": {
        "id": "Nm2K7SsDfBE8"
      },
      "source": [
        "Question 1"
      ]
    },
    {
      "cell_type": "code",
      "metadata": {
        "colab": {
          "base_uri": "https://localhost:8080/"
        },
        "id": "pBfkNuvTfEZY",
        "outputId": "764277cf-0990-407a-902b-116707759875"
      },
      "source": [
        "def swap_case(s):\n",
        "    temp = []\n",
        "    L = list(s)\n",
        "\n",
        "    for i in L:\n",
        "        j = \"\"\n",
        "        if i.islower():\n",
        "            j = i.upper()\n",
        "        elif i.isupper():\n",
        "            j = i.lower()\n",
        "        else:\n",
        "            temp.append(i)\n",
        "        temp.append(j)\n",
        "    \n",
        "    r = ''.join(temp)\n",
        "    \n",
        "    return r\n",
        "\n",
        "if __name__ == '__main__':\n",
        "    s = input()\n",
        "    result = swap_case(s)\n",
        "    print(result)"
      ],
      "execution_count": 1,
      "outputs": [
        {
          "output_type": "stream",
          "text": [
            "bhushan\n",
            "BHUSHAN\n"
          ],
          "name": "stdout"
        }
      ]
    },
    {
      "cell_type": "markdown",
      "metadata": {
        "id": "0n2Qk_MfgaBH"
      },
      "source": [
        "Question 2"
      ]
    },
    {
      "cell_type": "code",
      "metadata": {
        "colab": {
          "base_uri": "https://localhost:8080/"
        },
        "id": "B0QHbCQ2gS9Z",
        "outputId": "df54f5c9-4a5d-4669-88c4-0b22829e0938"
      },
      "source": [
        "def split_and_join(line):\n",
        "    # write your code here\n",
        "    x = line.split(\" \")\n",
        "    x = \"-\".join(x)\n",
        "    return x\n",
        "\n",
        "if __name__ == '__main__':\n",
        "    line = input()\n",
        "    result = split_and_join(line)\n",
        "    print(result)"
      ],
      "execution_count": 2,
      "outputs": [
        {
          "output_type": "stream",
          "text": [
            "My name is Sachin\n",
            "My-name-is-Sachin\n"
          ],
          "name": "stdout"
        }
      ]
    },
    {
      "cell_type": "markdown",
      "metadata": {
        "id": "8FlMBRPGhAFt"
      },
      "source": [
        "Question 3"
      ]
    },
    {
      "cell_type": "code",
      "metadata": {
        "colab": {
          "base_uri": "https://localhost:8080/"
        },
        "id": "owVMSOPQg5OX",
        "outputId": "d886e76c-b0db-4441-90a1-2df78df6f7cb"
      },
      "source": [
        "def print_full_name(first, last):\n",
        "    # Write your code here\n",
        "    last = last+\"!\"\n",
        "    print(\"Hello\",first, last,\"You just delved into python.\");\n",
        "\n",
        "if __name__ == '__main__':\n",
        "    first_name = input()\n",
        "    last_name = input()\n",
        "    print_full_name(first_name, last_name)"
      ],
      "execution_count": 3,
      "outputs": [
        {
          "output_type": "stream",
          "text": [
            "Bhushan\n",
            "Jain\n",
            "Hello Bhushan Jain! You just delved into python.\n"
          ],
          "name": "stdout"
        }
      ]
    },
    {
      "cell_type": "markdown",
      "metadata": {
        "id": "R0MiqzjVhyix"
      },
      "source": [
        "Question 4"
      ]
    },
    {
      "cell_type": "code",
      "metadata": {
        "colab": {
          "base_uri": "https://localhost:8080/"
        },
        "id": "86G-ZGUkht6N",
        "outputId": "60fcc097-2716-4bcb-bf7e-09f2e6ddc558"
      },
      "source": [
        "def count_substring(string, sub_string):\n",
        "    count = 0\n",
        "    for i in range(len(string)-len(sub_string)+1):\n",
        "        if (string[i:i+len(sub_string)] == sub_string):\n",
        "            count = count + 1\n",
        "    return count\n",
        "    \n",
        "\n",
        "if __name__ == '__main__':\n",
        "    string = input().strip()\n",
        "    sub_string = input().strip()\n",
        "    \n",
        "    count = count_substring(string, sub_string)\n",
        "    print(count)"
      ],
      "execution_count": 4,
      "outputs": [
        {
          "output_type": "stream",
          "text": [
            "Visual Basic IDE\n",
            "ual\n",
            "1\n"
          ],
          "name": "stdout"
        }
      ]
    },
    {
      "cell_type": "markdown",
      "metadata": {
        "id": "k82-97a4iv_g"
      },
      "source": [
        "Question 5"
      ]
    },
    {
      "cell_type": "code",
      "metadata": {
        "colab": {
          "base_uri": "https://localhost:8080/"
        },
        "id": "ltOvkQAYimrA",
        "outputId": "fadf31c8-ad8b-458a-ded6-e92e4ba5fc80"
      },
      "source": [
        "def mutate_string(string, position, character):\n",
        "    inp =list(string)\n",
        "    inp[position]= character\n",
        "    string=''.join(inp)\n",
        "\n",
        "    return string\n",
        "\n",
        "if __name__ == '__main__':\n",
        "    s = input()\n",
        "    i, c = input().split()\n",
        "    s_new = mutate_string(s, int(i), c)\n",
        "    print(s_new)"
      ],
      "execution_count": 5,
      "outputs": [
        {
          "output_type": "stream",
          "text": [
            "Solution not working or have any suggestions?\n",
            "7 y\n",
            "Solutioy not working or have any suggestions?\n"
          ],
          "name": "stdout"
        }
      ]
    },
    {
      "cell_type": "markdown",
      "metadata": {
        "id": "kVVHKg8akJHZ"
      },
      "source": [
        "Question 6 "
      ]
    },
    {
      "cell_type": "code",
      "metadata": {
        "colab": {
          "base_uri": "https://localhost:8080/"
        },
        "id": "nDMC7XL0j2IH",
        "outputId": "12343822-b6fc-4fc9-c4a3-13e71bca9a83"
      },
      "source": [
        "s = input()\n",
        "print(any(c.isalnum() for c in s))\n",
        "print(any(c.isalpha() for c in s))\n",
        "print(any(c.isdigit() for c in s))\n",
        "print(any(c.islower() for c in s))\n",
        "print(any(c.isupper() for c in s))"
      ],
      "execution_count": 7,
      "outputs": [
        {
          "output_type": "stream",
          "text": [
            "SAchin score 3 triple 100 in 1 match\n",
            "True\n",
            "True\n",
            "True\n",
            "True\n",
            "True\n"
          ],
          "name": "stdout"
        }
      ]
    },
    {
      "cell_type": "markdown",
      "metadata": {
        "id": "cA6ZcxUzlNfw"
      },
      "source": [
        "Question 7"
      ]
    },
    {
      "cell_type": "code",
      "metadata": {
        "colab": {
          "base_uri": "https://localhost:8080/"
        },
        "id": "HdczR_0Tk7NJ",
        "outputId": "b02a9a11-adc9-4bef-ff5e-877bb48c50b0"
      },
      "source": [
        "thickness = int(input()) #This must be an odd number\n",
        "c = 'H'\n",
        "\n",
        "#Top Cone\n",
        "for i in range(thickness):\n",
        "    print((c*i).rjust(thickness-1)+c+(c*i).ljust(thickness-1))\n",
        "\n",
        "#Top Pillars\n",
        "for i in range(thickness+1):\n",
        "    print((c*thickness).center(thickness*2)+(c*thickness).center(thickness*6))\n",
        "\n",
        "#Middle Belt\n",
        "for i in range((thickness+1)//2):\n",
        "    print((c*thickness*5).center(thickness*6))    \n",
        "\n",
        "#Bottom Pillars\n",
        "for i in range(thickness+1):\n",
        "    print((c*thickness).center(thickness*2)+(c*thickness).center(thickness*6))    \n",
        "\n",
        "#Bottom Cone\n",
        "for i in range(thickness):\n",
        "    print(((c*(thickness-i-1)).rjust(thickness)+c+(c*(thickness-i-1)).ljust(thickness)).rjust(thickness*6))"
      ],
      "execution_count": 9,
      "outputs": [
        {
          "output_type": "stream",
          "text": [
            "6\n",
            "     H     \n",
            "    HHH    \n",
            "   HHHHH   \n",
            "  HHHHHHH  \n",
            " HHHHHHHHH \n",
            "HHHHHHHHHHH\n",
            "   HHHHHH                  HHHHHH               \n",
            "   HHHHHH                  HHHHHH               \n",
            "   HHHHHH                  HHHHHH               \n",
            "   HHHHHH                  HHHHHH               \n",
            "   HHHHHH                  HHHHHH               \n",
            "   HHHHHH                  HHHHHH               \n",
            "   HHHHHH                  HHHHHH               \n",
            "   HHHHHHHHHHHHHHHHHHHHHHHHHHHHHH   \n",
            "   HHHHHHHHHHHHHHHHHHHHHHHHHHHHHH   \n",
            "   HHHHHHHHHHHHHHHHHHHHHHHHHHHHHH   \n",
            "   HHHHHH                  HHHHHH               \n",
            "   HHHHHH                  HHHHHH               \n",
            "   HHHHHH                  HHHHHH               \n",
            "   HHHHHH                  HHHHHH               \n",
            "   HHHHHH                  HHHHHH               \n",
            "   HHHHHH                  HHHHHH               \n",
            "   HHHHHH                  HHHHHH               \n",
            "                        HHHHHHHHHHH \n",
            "                         HHHHHHHHH  \n",
            "                          HHHHHHH   \n",
            "                           HHHHH    \n",
            "                            HHH     \n",
            "                             H      \n"
          ],
          "name": "stdout"
        }
      ]
    },
    {
      "cell_type": "markdown",
      "metadata": {
        "id": "azD-nEkrmQ1v"
      },
      "source": [
        "Question 8"
      ]
    },
    {
      "cell_type": "code",
      "metadata": {
        "colab": {
          "base_uri": "https://localhost:8080/"
        },
        "id": "ya3VAwhMmJxD",
        "outputId": "3a7bf80e-13cb-4205-93e1-153b50f7629f"
      },
      "source": [
        "import textwrap\n",
        "def wrap(string, max_width):\n",
        "    return textwrap.fill(string,max_width)\n",
        "    return\n",
        "\n",
        "if __name__ == '__main__':\n",
        "    string, max_width = input(), int(input())\n",
        "    result = wrap(string, max_width)\n",
        "    print(result)\n"
      ],
      "execution_count": 12,
      "outputs": [
        {
          "output_type": "stream",
          "text": [
            "ertuoweiruiwersdjhflaskdhfksdj\n",
            "5\n",
            "ertuo\n",
            "weiru\n",
            "iwers\n",
            "djhfl\n",
            "askdh\n",
            "fksdj\n"
          ],
          "name": "stdout"
        }
      ]
    },
    {
      "cell_type": "markdown",
      "metadata": {
        "id": "yv8Z00OcnBbF"
      },
      "source": [
        "Question 9"
      ]
    },
    {
      "cell_type": "code",
      "metadata": {
        "colab": {
          "base_uri": "https://localhost:8080/"
        },
        "id": "igJogAy4mo9f",
        "outputId": "9b36bd67-4369-4082-e09b-37b052e6db34"
      },
      "source": [
        "import sys\n",
        "\n",
        "N, M = map(int,input().split())\n",
        "\n",
        "a=[('.|.'*i).center(M,'-') for i in range(1, N, 2)]\n",
        "\n",
        "for e in a + ['WELCOME'.center(M,'-')] + list(reversed(a)):\n",
        "    print(e)"
      ],
      "execution_count": 16,
      "outputs": [
        {
          "output_type": "stream",
          "text": [
            "5 22\n",
            "---------.|.----------\n",
            "------.|..|..|.-------\n",
            "-------WELCOME--------\n",
            "------.|..|..|.-------\n",
            "---------.|.----------\n"
          ],
          "name": "stdout"
        }
      ]
    },
    {
      "cell_type": "markdown",
      "metadata": {
        "id": "aAxnHGqVoABt"
      },
      "source": [
        "Question 10"
      ]
    },
    {
      "cell_type": "code",
      "metadata": {
        "colab": {
          "base_uri": "https://localhost:8080/"
        },
        "id": "xSxFO0R5nsr3",
        "outputId": "9a67a053-e483-48df-a570-0e3c36127f4f"
      },
      "source": [
        "def print_formatted(number):\n",
        "    # your code goes here\n",
        "    width = len(\"{0:b}\".format(number))\n",
        "\n",
        "    for i in range(1, number + 1):\n",
        "        print(\"{0:{w}d} {0:{w}o} {0:{w}X} {0:{w}b}\".format(i, w = width))\n",
        "\n",
        "\n",
        "if __name__ == '__main__':\n",
        "    n = int(input())\n",
        "    print_formatted(n)"
      ],
      "execution_count": 19,
      "outputs": [
        {
          "output_type": "stream",
          "text": [
            "10\n",
            "   1    1    1    1\n",
            "   2    2    2   10\n",
            "   3    3    3   11\n",
            "   4    4    4  100\n",
            "   5    5    5  101\n",
            "   6    6    6  110\n",
            "   7    7    7  111\n",
            "   8   10    8 1000\n",
            "   9   11    9 1001\n",
            "  10   12    A 1010\n"
          ],
          "name": "stdout"
        }
      ]
    },
    {
      "cell_type": "markdown",
      "metadata": {
        "id": "EpW3BeVdo3UC"
      },
      "source": [
        "Question 11"
      ]
    },
    {
      "cell_type": "code",
      "metadata": {
        "colab": {
          "base_uri": "https://localhost:8080/"
        },
        "id": "6tabpP66o6PF",
        "outputId": "22e6a77e-bacd-4858-9a3e-e0a2607a704c"
      },
      "source": [
        "def print_rangoli(size):\n",
        "    # your code goes here\n",
        "    width  = size*4-3\n",
        "    string = ''\n",
        "    for i in range(1,size+1):\n",
        "        for j in range(0,i):\n",
        "            string += chr(96+size-j)\n",
        "            if len(string) < width :\n",
        "                string += '-'\n",
        "        for k in range(i-1,0,-1):    \n",
        "            string += chr(97+size-k)\n",
        "            if len(string) < width :\n",
        "                string += '-'\n",
        "        print(string.center(width,'-'))\n",
        "        string = ''\n",
        "\n",
        "    for i in range(size-1,0,-1):\n",
        "        string = ''\n",
        "        for j in range(0,i):\n",
        "            string += chr(96+size-j)\n",
        "            if len(string) < width :\n",
        "                string += '-'\n",
        "        for k in range(i-1,0,-1):\n",
        "            string += chr(97+size-k)\n",
        "            if len(string) < width :\n",
        "                string += '-'\n",
        "        print(string.center(width,'-'))\n",
        "\n",
        "if __name__ == '__main__':\n",
        "    n = int(input())\n",
        "    print_rangoli(n)"
      ],
      "execution_count": 20,
      "outputs": [
        {
          "output_type": "stream",
          "text": [
            "5\n",
            "--------e--------\n",
            "------e-d-e------\n",
            "----e-d-c-d-e----\n",
            "--e-d-c-b-c-d-e--\n",
            "e-d-c-b-a-b-c-d-e\n",
            "--e-d-c-b-c-d-e--\n",
            "----e-d-c-d-e----\n",
            "------e-d-e------\n",
            "--------e--------\n"
          ],
          "name": "stdout"
        }
      ]
    },
    {
      "cell_type": "code",
      "metadata": {
        "id": "OvzTH0YTplA4"
      },
      "source": [
        ""
      ],
      "execution_count": null,
      "outputs": []
    },
    {
      "cell_type": "markdown",
      "metadata": {
        "id": "N-Matbcxqa1U"
      },
      "source": [
        "Question 12"
      ]
    },
    {
      "cell_type": "code",
      "metadata": {
        "colab": {
          "base_uri": "https://localhost:8080/",
          "height": 346
        },
        "id": "Wb1RPkZxqdWz",
        "outputId": "acc8df86-5405-497e-dee7-8461f6786040"
      },
      "source": [
        "import os\n",
        "def solve(s):\n",
        "    for x in s[:].split():\n",
        "        s = s.replace(x, x.capitalize())\n",
        "    return s\n",
        "\n",
        "if __name__ == '__main__':\n",
        " fptr = open(os.environ['OUTPUT_PATH'], 'w')\n",
        "\n",
        " s = input()\n",
        "\n",
        " result = solve(s)\n",
        "\n",
        " fptr.write(result + '\\n')\n",
        "\n",
        " fptr.close()\n"
      ],
      "execution_count": 35,
      "outputs": [
        {
          "output_type": "error",
          "ename": "KeyError",
          "evalue": "ignored",
          "traceback": [
            "\u001b[0;31m---------------------------------------------------------------------------\u001b[0m",
            "\u001b[0;31mKeyError\u001b[0m                                  Traceback (most recent call last)",
            "\u001b[0;32m<ipython-input-35-2786e91bddf5>\u001b[0m in \u001b[0;36m<module>\u001b[0;34m()\u001b[0m\n\u001b[1;32m      6\u001b[0m \u001b[0;34m\u001b[0m\u001b[0m\n\u001b[1;32m      7\u001b[0m \u001b[0;32mif\u001b[0m \u001b[0m__name__\u001b[0m \u001b[0;34m==\u001b[0m \u001b[0;34m'__main__'\u001b[0m\u001b[0;34m:\u001b[0m\u001b[0;34m\u001b[0m\u001b[0;34m\u001b[0m\u001b[0m\n\u001b[0;32m----> 8\u001b[0;31m  \u001b[0mfptr\u001b[0m \u001b[0;34m=\u001b[0m \u001b[0mopen\u001b[0m\u001b[0;34m(\u001b[0m\u001b[0mos\u001b[0m\u001b[0;34m.\u001b[0m\u001b[0menviron\u001b[0m\u001b[0;34m[\u001b[0m\u001b[0;34m'OUTPUT_PATH'\u001b[0m\u001b[0;34m]\u001b[0m\u001b[0;34m,\u001b[0m \u001b[0;34m'w'\u001b[0m\u001b[0;34m)\u001b[0m\u001b[0;34m\u001b[0m\u001b[0;34m\u001b[0m\u001b[0m\n\u001b[0m\u001b[1;32m      9\u001b[0m \u001b[0;34m\u001b[0m\u001b[0m\n\u001b[1;32m     10\u001b[0m  \u001b[0ms\u001b[0m \u001b[0;34m=\u001b[0m \u001b[0minput\u001b[0m\u001b[0;34m(\u001b[0m\u001b[0;34m)\u001b[0m\u001b[0;34m\u001b[0m\u001b[0;34m\u001b[0m\u001b[0m\n",
            "\u001b[0;32m/usr/lib/python3.7/os.py\u001b[0m in \u001b[0;36m__getitem__\u001b[0;34m(self, key)\u001b[0m\n\u001b[1;32m    679\u001b[0m         \u001b[0;32mexcept\u001b[0m \u001b[0mKeyError\u001b[0m\u001b[0;34m:\u001b[0m\u001b[0;34m\u001b[0m\u001b[0;34m\u001b[0m\u001b[0m\n\u001b[1;32m    680\u001b[0m             \u001b[0;31m# raise KeyError with the original key value\u001b[0m\u001b[0;34m\u001b[0m\u001b[0;34m\u001b[0m\u001b[0;34m\u001b[0m\u001b[0m\n\u001b[0;32m--> 681\u001b[0;31m             \u001b[0;32mraise\u001b[0m \u001b[0mKeyError\u001b[0m\u001b[0;34m(\u001b[0m\u001b[0mkey\u001b[0m\u001b[0;34m)\u001b[0m \u001b[0;32mfrom\u001b[0m \u001b[0;32mNone\u001b[0m\u001b[0;34m\u001b[0m\u001b[0;34m\u001b[0m\u001b[0m\n\u001b[0m\u001b[1;32m    682\u001b[0m         \u001b[0;32mreturn\u001b[0m \u001b[0mself\u001b[0m\u001b[0;34m.\u001b[0m\u001b[0mdecodevalue\u001b[0m\u001b[0;34m(\u001b[0m\u001b[0mvalue\u001b[0m\u001b[0;34m)\u001b[0m\u001b[0;34m\u001b[0m\u001b[0;34m\u001b[0m\u001b[0m\n\u001b[1;32m    683\u001b[0m \u001b[0;34m\u001b[0m\u001b[0m\n",
            "\u001b[0;31mKeyError\u001b[0m: 'OUTPUT_PATH'"
          ]
        }
      ]
    },
    {
      "cell_type": "code",
      "metadata": {
        "id": "zP7aXd8eqd4g"
      },
      "source": [
        ""
      ],
      "execution_count": null,
      "outputs": []
    },
    {
      "cell_type": "markdown",
      "metadata": {
        "id": "li1CHtXRuCKC"
      },
      "source": [
        "Question 13\n"
      ]
    },
    {
      "cell_type": "code",
      "metadata": {
        "colab": {
          "base_uri": "https://localhost:8080/"
        },
        "id": "m7nRguINuFF7",
        "outputId": "7aa7eb8b-a8b8-42bb-e7f0-bb1b8f6a0681"
      },
      "source": [
        "def minion_game(string):\n",
        "    player1 = 0;\n",
        "    player2 = 0;\n",
        "    str_len = len(string)\n",
        "    for i in range(str_len):\n",
        "        if s[i] in \"AEIOU\":\n",
        "          player1 = player1 + (str_len)-i\n",
        "        else :\n",
        "            player2 = player2 + (str_len)-i\n",
        "    \n",
        "    if player1 > player2:\n",
        "            print(\"Kevin\", player1)\n",
        "    elif player1 < player2:\n",
        "            print(\"Stuart\",player2)\n",
        "    elif player1 == player2:\n",
        "            print(\"Draw\")\n",
        "    else :\n",
        "            print(\"Draw\")\n",
        "\n",
        "if __name__ == '__main__':\n",
        "    s = input()\n",
        "    minion_game(s)"
      ],
      "execution_count": 26,
      "outputs": [
        {
          "output_type": "stream",
          "text": [
            "kevin\n",
            "Stuart 15\n"
          ],
          "name": "stdout"
        }
      ]
    },
    {
      "cell_type": "code",
      "metadata": {
        "id": "N68oq67uuFjA"
      },
      "source": [
        ""
      ],
      "execution_count": null,
      "outputs": []
    },
    {
      "cell_type": "markdown",
      "metadata": {
        "id": "iuy8B5oivJcz"
      },
      "source": [
        "Question 14 "
      ]
    },
    {
      "cell_type": "code",
      "metadata": {
        "colab": {
          "base_uri": "https://localhost:8080/"
        },
        "id": "mlTxkzVMvLAs",
        "outputId": "6824296c-429b-41f5-add7-131b99e311ec"
      },
      "source": [
        "def merge_the_tools(string, k):\n",
        "    # your code goes here\n",
        "    for i in range(0,len(string), k):       \n",
        "        line = string[i:i+k]\n",
        "        seen = set()\n",
        "        for i in line:            \n",
        "            if i not in seen:\n",
        "                print(i,end=\"\")\n",
        "                seen.add(i)\n",
        "        print()\n",
        "\n",
        "\n",
        "if __name__ == '__main__':\n",
        "    string, k = input(), int(input())\n",
        "    merge_the_tools(string, k)"
      ],
      "execution_count": 27,
      "outputs": [
        {
          "output_type": "stream",
          "text": [
            "nvnvnvnvn\n",
            "5\n",
            "nv\n",
            "vn\n"
          ],
          "name": "stdout"
        }
      ]
    },
    {
      "cell_type": "code",
      "metadata": {
        "id": "dh-8alSMvLhb"
      },
      "source": [
        ""
      ],
      "execution_count": null,
      "outputs": []
    }
  ]
}