{
  "nbformat": 4,
  "nbformat_minor": 0,
  "metadata": {
    "colab": {
      "name": "Task - 6 (Numpy).ipynb",
      "provenance": []
    },
    "kernelspec": {
      "name": "python3",
      "display_name": "Python 3"
    },
    "language_info": {
      "name": "python"
    }
  },
  "cells": [
    {
      "cell_type": "markdown",
      "metadata": {
        "id": "kovdiuFpqkIy"
      },
      "source": [
        "Question 1"
      ]
    },
    {
      "cell_type": "code",
      "metadata": {
        "colab": {
          "base_uri": "https://localhost:8080/"
        },
        "id": "EPSV_KCYqmRa",
        "outputId": "24069d05-4c6c-497a-fd5b-6c49e6739f1e"
      },
      "source": [
        "import numpy\n",
        "\n",
        "def arrays(arr):\n",
        "    # complete this function\n",
        "    # use numpy.array\n",
        "    ans = numpy.array(arr[::-1],float)\n",
        "    return ans\n",
        "\n",
        "arr = input().strip().split(' ')\n",
        "result = arrays(arr)\n",
        "print(result)"
      ],
      "execution_count": null,
      "outputs": [
        {
          "output_type": "stream",
          "text": [
            "1 2 3 4 -8 -10\n",
            "[-10.  -8.   4.   3.   2.   1.]\n"
          ],
          "name": "stdout"
        }
      ]
    },
    {
      "cell_type": "markdown",
      "metadata": {
        "id": "27a-uyRFrQal"
      },
      "source": [
        "Question 2"
      ]
    },
    {
      "cell_type": "code",
      "metadata": {
        "colab": {
          "base_uri": "https://localhost:8080/"
        },
        "id": "2mvL0sferTxN",
        "outputId": "2e0c64e1-f1f2-461a-a784-ea47cb7e7086"
      },
      "source": [
        "import numpy\n",
        "arr = numpy.array(input().split(' '),int)\n",
        "print(arr.reshape(3,3))"
      ],
      "execution_count": null,
      "outputs": [
        {
          "output_type": "stream",
          "text": [
            "9 8 5 6 3 2 7 4 1\n",
            "[[9 8 5]\n",
            " [6 3 2]\n",
            " [7 4 1]]\n"
          ],
          "name": "stdout"
        }
      ]
    },
    {
      "cell_type": "markdown",
      "metadata": {
        "id": "UxlOrKXysoXP"
      },
      "source": [
        "Question 3"
      ]
    },
    {
      "cell_type": "code",
      "metadata": {
        "colab": {
          "base_uri": "https://localhost:8080/"
        },
        "id": "5eCS2YqVsrz4",
        "outputId": "386d1e42-6cbc-4695-cf5a-9df56401aebd"
      },
      "source": [
        "import numpy\n",
        "x, y = map(int, input().split())\n",
        "arr = numpy.array([input().strip().split() for _ in range(x)], int)\n",
        "print(arr.transpose())\n",
        "print(arr.flatten())"
      ],
      "execution_count": null,
      "outputs": [
        {
          "output_type": "stream",
          "text": [
            "2 2\n",
            "6 5\n",
            "8 9\n",
            "[[6 8]\n",
            " [5 9]]\n",
            "[6 5 8 9]\n"
          ],
          "name": "stdout"
        }
      ]
    },
    {
      "cell_type": "code",
      "metadata": {
        "id": "YJZsi3I7tPf7"
      },
      "source": [
        ""
      ],
      "execution_count": null,
      "outputs": []
    },
    {
      "cell_type": "markdown",
      "metadata": {
        "id": "upvGfDYyuXCi"
      },
      "source": [
        "Question 4\n"
      ]
    },
    {
      "cell_type": "code",
      "metadata": {
        "colab": {
          "base_uri": "https://localhost:8080/"
        },
        "id": "gJfkvADeuaZj",
        "outputId": "483dffeb-469c-4ec2-accb-49507954d249"
      },
      "source": [
        "import numpy as np\n",
        "x, y, z = map(int,input().split())\n",
        "arrA = np.array([input().split() for _ in range(x)],int)\n",
        "arrB = np.array([input().split() for _ in range(y)],int)\n",
        "print(np.concatenate((arrA, arrB), axis = 0))"
      ],
      "execution_count": null,
      "outputs": [
        {
          "output_type": "stream",
          "text": [
            "4 3 2\n",
            "1 2\n",
            "1 2\n",
            "2 1\n",
            "1 2\n",
            "1 2\n",
            "3 4\n",
            "3 4\n",
            "[[1 2]\n",
            " [1 2]\n",
            " [2 1]\n",
            " [1 2]\n",
            " [1 2]\n",
            " [3 4]\n",
            " [3 4]]\n"
          ],
          "name": "stdout"
        }
      ]
    },
    {
      "cell_type": "code",
      "metadata": {
        "id": "67u95F_aweud"
      },
      "source": [
        ""
      ],
      "execution_count": null,
      "outputs": []
    },
    {
      "cell_type": "markdown",
      "metadata": {
        "id": "tV6G3XWQwpF5"
      },
      "source": [
        "Question 5"
      ]
    },
    {
      "cell_type": "code",
      "metadata": {
        "colab": {
          "base_uri": "https://localhost:8080/"
        },
        "id": "zMbKG6hTwq_g",
        "outputId": "22a650d6-e937-4062-d131-69ad6ee72cf1"
      },
      "source": [
        "import numpy\n",
        "arr = tuple(map(int,input().split()))\n",
        "print(numpy.zeros(arr,int))\n",
        "print(numpy.ones(arr,int))"
      ],
      "execution_count": null,
      "outputs": [
        {
          "output_type": "stream",
          "text": [
            "3 \n",
            "[0 0 0]\n",
            "[1 1 1]\n"
          ],
          "name": "stdout"
        }
      ]
    },
    {
      "cell_type": "markdown",
      "metadata": {
        "id": "Azufk230xbZn"
      },
      "source": [
        "Question 6"
      ]
    },
    {
      "cell_type": "code",
      "metadata": {
        "colab": {
          "base_uri": "https://localhost:8080/"
        },
        "id": "ITCA_mkFxVRl",
        "outputId": "d0915992-b303-424a-aafb-53a90522627a"
      },
      "source": [
        "import numpy\n",
        "numpy.set_printoptions(sign=' ')\n",
        "x, y = map(int, input().split())\n",
        "e = numpy.eye(x, y)\n",
        "print(e)"
      ],
      "execution_count": null,
      "outputs": [
        {
          "output_type": "stream",
          "text": [
            "3 3\n",
            "[[ 1.  0.  0.]\n",
            " [ 0.  1.  0.]\n",
            " [ 0.  0.  1.]]\n"
          ],
          "name": "stdout"
        }
      ]
    },
    {
      "cell_type": "markdown",
      "metadata": {
        "id": "kjr33ZR_yiWS"
      },
      "source": [
        "Question 7"
      ]
    },
    {
      "cell_type": "code",
      "metadata": {
        "colab": {
          "base_uri": "https://localhost:8080/"
        },
        "id": "MtXXEkisye43",
        "outputId": "aef09950-4608-47b1-c0f0-584bd7205426"
      },
      "source": [
        "import numpy\n",
        "n,m = map(int,input().split())\n",
        "a = numpy.array([input().split() for _ in range(n)],int)\n",
        "b = numpy.array([input().split() for _ in range(n)],int)\n",
        "print(a+b,a-b,a*b,a//b,a%b,a**b,sep=\"\\n\")\n"
      ],
      "execution_count": null,
      "outputs": [
        {
          "output_type": "stream",
          "text": [
            "1 2\n",
            "1 2 3 4 \n",
            "5 6  7  8\n",
            "[[ 6  8 10 12]]\n",
            "[[-4 -4 -4 -4]]\n",
            "[[ 5 12 21 32]]\n",
            "[[0 0 0 0]]\n",
            "[[1 2 3 4]]\n",
            "[[    1    64  2187 65536]]\n"
          ],
          "name": "stdout"
        }
      ]
    },
    {
      "cell_type": "code",
      "metadata": {
        "id": "XkWh2-uj3RNg"
      },
      "source": [
        ""
      ],
      "execution_count": null,
      "outputs": []
    },
    {
      "cell_type": "markdown",
      "metadata": {
        "id": "ehHjSmnC4IFZ"
      },
      "source": [
        "Question 8"
      ]
    },
    {
      "cell_type": "code",
      "metadata": {
        "colab": {
          "base_uri": "https://localhost:8080/"
        },
        "id": "0Y9MY4Mc4KFI",
        "outputId": "d7f79bb0-10a1-4996-eebe-9f5b32810566"
      },
      "source": [
        "import numpy\n",
        "numpy.set_printoptions(sign=' ')\n",
        "arr = numpy.array(input().split(),float)\n",
        "print(numpy.floor(arr))\n",
        "print(numpy.ceil(arr))\n",
        "print(numpy.rint(arr))"
      ],
      "execution_count": null,
      "outputs": [
        {
          "output_type": "stream",
          "text": [
            "1.1 2.2 3.3 4.4 5.5 6.6 7.7 8.8 9.9\n",
            "[ 1.  2.  3.  4.  5.  6.  7.  8.  9.]\n",
            "[  2.   3.   4.   5.   6.   7.   8.   9.  10.]\n",
            "[  1.   2.   3.   4.   6.   7.   8.   9.  10.]\n"
          ],
          "name": "stdout"
        }
      ]
    },
    {
      "cell_type": "markdown",
      "metadata": {
        "id": "K4u8Dvoc4N5R"
      },
      "source": [
        "Question 9"
      ]
    },
    {
      "cell_type": "code",
      "metadata": {
        "colab": {
          "base_uri": "https://localhost:8080/"
        },
        "id": "DGBh7lS_4Kkm",
        "outputId": "e6ef106a-3e7c-42b3-816f-9dd9c944234f"
      },
      "source": [
        "import numpy\n",
        "x, y = map(int, input().split())\n",
        "arr = numpy.array([input().split() for i in range(x)], int)\n",
        "print(numpy.prod(numpy.sum(arr, axis = 0), axis = None))\n"
      ],
      "execution_count": null,
      "outputs": [
        {
          "output_type": "stream",
          "text": [
            "2 2\n",
            "1 2\n",
            "3 4\n",
            "24\n"
          ],
          "name": "stdout"
        }
      ]
    },
    {
      "cell_type": "markdown",
      "metadata": {
        "id": "RrgpS2_F5BHZ"
      },
      "source": [
        "Question 10 "
      ]
    },
    {
      "cell_type": "code",
      "metadata": {
        "colab": {
          "base_uri": "https://localhost:8080/"
        },
        "id": "8dRUInSR5ChI",
        "outputId": "5f0f92e2-3f8d-49b4-c225-2ac25db67005"
      },
      "source": [
        "import numpy\n",
        "x, y = map(int, input().split())\n",
        "A = numpy.array([input().split() for i in range(x)],dtype = int)\n",
        "print(numpy.max(numpy.min(A, axis=1), axis=0))\n"
      ],
      "execution_count": null,
      "outputs": [
        {
          "output_type": "stream",
          "text": [
            "4 2\n",
            "2 5\n",
            "1 2\n",
            "3 6\n",
            "7 4\n",
            "4\n"
          ],
          "name": "stdout"
        }
      ]
    },
    {
      "cell_type": "markdown",
      "metadata": {
        "id": "FKtePBkp6LgX"
      },
      "source": [
        "Question 11"
      ]
    },
    {
      "cell_type": "code",
      "metadata": {
        "id": "quyu89UP47hm",
        "colab": {
          "base_uri": "https://localhost:8080/"
        },
        "outputId": "72fa1d10-6d04-44cd-cb67-4cee35cb800d"
      },
      "source": [
        "import numpy\n",
        "N, M = map(int, input().split())\n",
        "A = numpy.array([input().split() for i in range(N)], dtype =float)\n",
        "print(numpy.mean(A, axis =1))\n",
        "print(numpy.var(A, axis =0))\n",
        "print(round((numpy.std(A)),12))\n"
      ],
      "execution_count": 1,
      "outputs": [
        {
          "output_type": "stream",
          "text": [
            "2 2\n",
            "1 1\n",
            "3 4\n",
            "[1.  3.5]\n",
            "[1.   2.25]\n",
            "1.299038105677\n"
          ],
          "name": "stdout"
        }
      ]
    },
    {
      "cell_type": "markdown",
      "metadata": {
        "id": "i7mIhM6J9Ad7"
      },
      "source": [
        "Question 12"
      ]
    },
    {
      "cell_type": "code",
      "metadata": {
        "colab": {
          "base_uri": "https://localhost:8080/"
        },
        "id": "DPf9KHkF9B14",
        "outputId": "79e9a4df-0b27-4f8d-b17f-4e0e7f8fbbb6"
      },
      "source": [
        "import numpy\n",
        "N = int(input())\n",
        "A = numpy.array([input().split() for i in range(N)], dtype =int)\n",
        "B = numpy.array([input().split() for i in range(N)], dtype =int)\n",
        "C = numpy.dot(A,B)\n",
        "print(C)\n"
      ],
      "execution_count": null,
      "outputs": [
        {
          "output_type": "stream",
          "text": [
            "2\n",
            "1 2\n",
            "3 1\n",
            "1 2\n",
            "3 1\n",
            "[[7 4]\n",
            " [6 7]]\n"
          ],
          "name": "stdout"
        }
      ]
    },
    {
      "cell_type": "markdown",
      "metadata": {
        "id": "L0UnQ9PX9HP8"
      },
      "source": [
        "Question 13"
      ]
    },
    {
      "cell_type": "code",
      "metadata": {
        "colab": {
          "base_uri": "https://localhost:8080/"
        },
        "id": "XABSDWmu9CPU",
        "outputId": "7384218d-5a5a-45df-d982-1d44c2b3a391"
      },
      "source": [
        "import numpy\n",
        "a = numpy.array(input().split() , int)\n",
        "b = numpy.array(input().split() , int)\n",
        "print(numpy.inner(a, b))\n",
        "print(numpy.outer(a, b))\n"
      ],
      "execution_count": null,
      "outputs": [
        {
          "output_type": "stream",
          "text": [
            "0 1\n",
            "2 3\n",
            "3\n",
            "[[0 0]\n",
            " [2 3]]\n"
          ],
          "name": "stdout"
        }
      ]
    },
    {
      "cell_type": "markdown",
      "metadata": {
        "id": "o-euzb0O9gqY"
      },
      "source": [
        "Question 14"
      ]
    },
    {
      "cell_type": "code",
      "metadata": {
        "colab": {
          "base_uri": "https://localhost:8080/"
        },
        "id": "5HdiW1Sj9apD",
        "outputId": "e77f3f80-c2e9-435f-df6c-7cf76c4fdec3"
      },
      "source": [
        "import numpy\n",
        "m = numpy.array(input().split(), float)\n",
        "n = float(input())\n",
        "print(numpy.polyval(m, n))\n"
      ],
      "execution_count": null,
      "outputs": [
        {
          "output_type": "stream",
          "text": [
            "1.1 2 3\n",
            "3\n",
            "18.900000000000002\n"
          ],
          "name": "stdout"
        }
      ]
    },
    {
      "cell_type": "markdown",
      "metadata": {
        "id": "wFJf1rmv-GMr"
      },
      "source": [
        "Question 15"
      ]
    },
    {
      "cell_type": "code",
      "metadata": {
        "colab": {
          "base_uri": "https://localhost:8080/"
        },
        "id": "ep1z1qX99yFY",
        "outputId": "e4baa035-5031-450c-868f-f2ccfe71a400"
      },
      "source": [
        "import numpy\n",
        "numpy.set_printoptions(legacy='1.13')\n",
        "\n",
        "N = int(input())\n",
        "\n",
        "A = numpy.array([input().split() for i in range(N)], float)\n",
        "print(numpy.linalg.det(A))\n"
      ],
      "execution_count": null,
      "outputs": [
        {
          "output_type": "stream",
          "text": [
            "2\n",
            "1.1 2.2\n",
            "3.1 2.1\n",
            "-4.51\n"
          ],
          "name": "stdout"
        }
      ]
    },
    {
      "cell_type": "code",
      "metadata": {
        "id": "_HdvinT5-H5c"
      },
      "source": [
        ""
      ],
      "execution_count": null,
      "outputs": []
    }
  ]
}