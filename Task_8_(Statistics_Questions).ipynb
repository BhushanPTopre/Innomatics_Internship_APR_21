{
  "nbformat": 4,
  "nbformat_minor": 0,
  "metadata": {
    "colab": {
      "name": "Task - 8 (Statistics Questions).ipynb",
      "provenance": []
    },
    "kernelspec": {
      "name": "python3",
      "display_name": "Python 3"
    },
    "language_info": {
      "name": "python"
    }
  },
  "cells": [
    {
      "cell_type": "markdown",
      "metadata": {
        "id": "gdophrcN8--l"
      },
      "source": [
        "Question 1\n",
        "\n",
        "Task\n",
        "The ratio of boys to girls for babies born in Russia is . If there is  child born per birth, what proportion of Russian families with exactly  children will have at least  boys?\n",
        "\n",
        "Write a program to compute the answer using the above parameters. Then print your result, rounded to a scale of  decimal places (i.e.,  format).\n",
        "\n",
        "Input Format\n",
        "\n",
        "A single line containing the following values:\n",
        "\n",
        "1.09 1\n",
        "If you do not wish to read this information from stdin, you can hard-code it into your program.\n",
        "\n",
        "Output Format\n",
        "\n",
        "Print a single line denoting the answer, rounded to a scale of  decimal places (i.e.,  format)."
      ]
    },
    {
      "cell_type": "code",
      "metadata": {
        "colab": {
          "base_uri": "https://localhost:8080/"
        },
        "id": "qU3SeBXN6xjy",
        "outputId": "f6df94c2-3b61-432d-e44e-a1501fd37a78"
      },
      "source": [
        "def fact(n):\n",
        "    return 1 if n == 0 else n*fact(n-1)\n",
        "\n",
        "def comb(n, x):\n",
        "    return fact(n) / (fact(x) * fact(n-x))\n",
        "\n",
        "def b(x, n, p):\n",
        "    return comb(n, x) * p**x * (1-p)**(n-x)\n",
        "\n",
        "l, r = list(map(float, input().split(\" \")))\n",
        "odds = l / r\n",
        "print(round(sum([b(i, 6, odds / (1 + odds)) for i in range(3, 7)]), 3))"
      ],
      "execution_count": null,
      "outputs": [
        {
          "output_type": "stream",
          "text": [
            "1.09 1\n",
            "0.696\n"
          ],
          "name": "stdout"
        }
      ]
    },
    {
      "cell_type": "markdown",
      "metadata": {
        "id": "yENhEO3D8-Im"
      },
      "source": [
        "Question 2\n"
      ]
    },
    {
      "cell_type": "code",
      "metadata": {
        "colab": {
          "base_uri": "https://localhost:8080/"
        },
        "id": "mxp8MrKQ8x0W",
        "outputId": "bb5d18c7-3b3f-4329-ef86-0b77b2ca5713"
      },
      "source": [
        "def fact(n):\n",
        "    return 1 if n == 0 else n*fact(n-1)\n",
        "\n",
        "def comb(n, x):\n",
        "    return fact(n) / (fact(x) * fact(n-x))\n",
        "\n",
        "def b(x, n, p):\n",
        "    return comb(n, x) * p**x * (1-p)**(n-x)\n",
        "\n",
        "p, n = list(map(int, input().split(\" \")))\n",
        "print(round(sum([b(i, n, p/100) for i in range(3)]), 3))\n",
        "print(round(sum([b(i, n, p/100) for i in range(2, n+1)]), 3))"
      ],
      "execution_count": null,
      "outputs": [
        {
          "output_type": "stream",
          "text": [
            "12 10\n",
            "0.891\n",
            "0.342\n"
          ],
          "name": "stdout"
        }
      ]
    },
    {
      "cell_type": "markdown",
      "metadata": {
        "id": "GNJoMeVHqj2N"
      },
      "source": [
        "Question 3\n",
        "Objective\n",
        "In this challenge, we learn about normal distributions. Check out the Tutorial tab for learning materials!\n",
        "\n",
        "Task\n",
        "In a certain plant, the time taken to assemble a car is a random variable, , having a normal distribution with a mean of  hours and a standard deviation of  hours. What is the probability that a car can be assembled at this plant in:\n",
        "\n",
        "Less than  hours?\n",
        "Between  and  hours?\n",
        "Input Format\n",
        "\n",
        "There are  lines of input (shown below):\n",
        "\n",
        "20 2\n",
        "19.5\n",
        "20 22\n",
        "The first line contains  space-separated values denoting the respective mean and standard deviation for . The second line contains the number associated with question . The third line contains  space-separated values describing the respective lower and upper range boundaries for question .\n",
        "\n",
        "If you do not wish to read this information from stdin, you can hard-code it into your program.\n",
        "\n",
        "Output Format\n",
        "\n",
        "There are two lines of output. Your answers must be rounded to a scale of  decimal places (i.e.,  format):\n",
        "\n",
        "On the first line, print the answer to question  (i.e., the probability that a car can be assembled in less than  hours).\n",
        "On the second line, print the answer to question  (i.e., the probability that a car can be assembled in between  to  hours)."
      ]
    },
    {
      "cell_type": "code",
      "metadata": {
        "id": "BqvaNtsfd56T",
        "colab": {
          "base_uri": "https://localhost:8080/"
        },
        "outputId": "328c6204-d103-4c6b-d07a-2b472fc77b35"
      },
      "source": [
        "# First we have to tansformed random variable into z score\n",
        "#X1 = 22\n",
        "#sig1 = 2 \n",
        "# assume mu represent mean \n",
        "#mu = 20 \n",
        "#z1 =(X1-mu)/sig\n",
        "# we wil take normal random variable to be 20 hours \n",
        "#X2 = 20 \n",
        "#z2 = (X2-mu)/sig\n",
        "#Replacing 20 for a and 22 for b in the above property of the probabilty \n",
        "# P(20<X<22) = P(X<22) - P(X<20) = P(z1<1) - P(z2<0)\n",
        "#############################################################3\n",
        "\n",
        "import math\n",
        "mean, std = 20, 2\n",
        "cdf = lambda x: 0.5 * (1 + math.erf((x - mean) / (std * (2 ** 0.5))))\n",
        "\n",
        "# Less than 19.5\n",
        "print('{:.3f}'.format(cdf(19.5)))\n",
        "# Between 20 and 22\n",
        "print('{:.3f}'.format(cdf(22) - cdf(20)))\n"
      ],
      "execution_count": 2,
      "outputs": [
        {
          "output_type": "stream",
          "text": [
            "0.401\n",
            "0.341\n"
          ],
          "name": "stdout"
        }
      ]
    },
    {
      "cell_type": "markdown",
      "metadata": {
        "id": "a_-SCObJtbcK"
      },
      "source": [
        "Question 4 \n",
        "Objective\n",
        "In this challenge, we go further with normal distributions. We recommend reviewing the previous challenge's Tutorial before attempting this problem.\n",
        "\n",
        "Task\n",
        "The final grades for a Physics exam taken by a large group of students have a mean of  and a standard deviation of . If we can approximate the distribution of these grades by a normal distribution, what percentage of the students:\n",
        "\n",
        "Scored higher than  (i.e., have a )?\n",
        "Passed the test (i.e., have a )?\n",
        "Failed the test (i.e., have a )?\n",
        "Find and print the answer to each question on a new line, rounded to a scale of  decimal places.\n",
        "\n",
        "Input Format\n",
        "\n",
        "There are  lines of input (shown below):\n",
        "\n",
        "70 10\n",
        "80\n",
        "60\n",
        "The first line contains  space-separated values denoting the respective mean and standard deviation for the exam. The second line contains the number associated with question . The third line contains the pass/fail threshold number associated with questions  and .\n",
        "\n",
        "If you do not wish to read this information from stdin, you can hard-code it into your program.\n",
        "\n",
        "Output Format\n",
        "\n",
        "There are three lines of output. Your answers must be rounded to a scale of  decimal places (i.e.,  format):\n",
        "\n",
        "On the first line, print the answer to question  (i.e., the percentage of students having ).\n",
        "On the second line, print the answer to question  (i.e., the percentage of students having ).\n",
        "On the third line, print the answer to question  (i.e., the percentage of students having )."
      ]
    },
    {
      "cell_type": "code",
      "metadata": {
        "colab": {
          "base_uri": "https://localhost:8080/"
        },
        "id": "DiYKYFNmtP2e",
        "outputId": "6abbe5f6-4a1f-4a84-cd5e-ef785fa3f285"
      },
      "source": [
        "import math\n",
        "mean, std = 70, 10\n",
        "cdf = lambda x: 0.5 * (1 + math.erf((x - mean) / (std * (2 ** 0.5))))\n",
        "\n",
        "\n",
        "print(round((1-cdf(80))*100,2))\n",
        "print(round((1-cdf(60))*100,2))\n",
        "print(round((cdf(60))*100,2))\n"
      ],
      "execution_count": 3,
      "outputs": [
        {
          "output_type": "stream",
          "text": [
            "15.87\n",
            "84.13\n",
            "15.87\n"
          ],
          "name": "stdout"
        }
      ]
    },
    {
      "cell_type": "code",
      "metadata": {
        "id": "tmaSVVRXuD5e"
      },
      "source": [
        ""
      ],
      "execution_count": null,
      "outputs": []
    },
    {
      "cell_type": "markdown",
      "metadata": {
        "id": "qA1Qa00ouFGy"
      },
      "source": [
        "Question 5 \n",
        "Objective\n",
        "In this challenge, we practice solving problems based on the Central Limit Theorem. Check out the Tutorial tab for learning materials!\n",
        "\n",
        "Task\n",
        "A large elevator can transport a maximum of  pounds. Suppose a load of cargo containing  boxes must be transported via the elevator. The box weight of this type of cargo follows a distribution with a mean of  pounds and a standard deviation of  pounds. Based on this information, what is the probability that all  boxes can be safely loaded into the freight elevator and transported?\n",
        "\n",
        "Input Format\n",
        "\n",
        "There are  lines of input (shown below):\n",
        "\n",
        "9800\n",
        "49\n",
        "205\n",
        "15\n",
        "The first line contains the maximum weight the elevator can transport. The second line contains the number of boxes in the cargo. The third line contains the mean weight of a cargo box, and the fourth line contains its standard deviation.\n",
        "\n",
        "If you do not wish to read this information from stdin, you can hard-code it into your program.\n",
        "\n",
        "Output Format\n",
        "\n",
        "Print the probability that the elevator can successfully transport all  boxes, rounded to a scale of  decimal places (i.e.,  format).\n"
      ]
    },
    {
      "cell_type": "code",
      "metadata": {
        "colab": {
          "base_uri": "https://localhost:8080/"
        },
        "id": "v0VV_BzzuNfH",
        "outputId": "b1d35b9f-f2e7-484e-f5c6-c097a4063aa4"
      },
      "source": [
        "import math\n",
        "x = int(input())\n",
        "n = int(input())\n",
        "mu = int(input())\n",
        "sig = int(input())\n",
        "\n",
        "mu_sum = n * mu \n",
        "sigma_sum = math.sqrt(n) * sig\n",
        "\n",
        "def cdf(x, mu, sig):\n",
        "    Z = (x - mu)/sig\n",
        "    return 0.5*(1 + math.erf(Z/(math.sqrt(2))))\n",
        "\n",
        "print(round(cdf(x, mu_sum, sigma_sum), 4))"
      ],
      "execution_count": 5,
      "outputs": [
        {
          "output_type": "stream",
          "text": [
            "9800\n",
            "49\n",
            "205\n",
            "15\n",
            "0.0098\n"
          ],
          "name": "stdout"
        }
      ]
    },
    {
      "cell_type": "markdown",
      "metadata": {
        "id": "xNWmRbPPu2vW"
      },
      "source": [
        "Question 6\n",
        "\n",
        "Objective\n",
        "In this challenge, we practice solving problems based on the Central Limit Theorem. We recommend reviewing the Central Limit Theorem Tutorial before attempting this challenge.\n",
        "\n",
        "Task\n",
        "The number of tickets purchased by each student for the University X vs. University Y football game follows a distribution that has a mean of  and a standard deviation of .\n",
        "\n",
        "A few hours before the game starts,  eager students line up to purchase last-minute tickets. If there are only  tickets left, what is the probability that all  students will be able to purchase tickets?\n",
        "\n",
        "Input Format\n",
        "\n",
        "There are  lines of input (shown below):\n",
        "\n",
        "250\n",
        "100\n",
        "2.4\n",
        "2.0\n",
        "The first line contains the number of last-minute tickets available at the box office. The second line contains the number of students waiting to buy tickets. The third line contains the mean number of purchased tickets, and the fourth line contains the standard deviation.\n",
        "\n",
        "If you do not wish to read this information from stdin, you can hard-code it into your program.\n",
        "\n",
        "Output Format\n",
        "\n",
        "Print the probability that  students can successfully purchase the remaining  tickets, rounded to a scale of  decimal places (i.e.,  format)."
      ]
    },
    {
      "cell_type": "code",
      "metadata": {
        "colab": {
          "base_uri": "https://localhost:8080/"
        },
        "id": "_8puJ8-Iu16u",
        "outputId": "67e2d093-db4b-407a-fb74-a0f16e7f0a53"
      },
      "source": [
        "import math\n",
        "x = 250\n",
        "n = 100\n",
        "sampling_mean = 2.4\n",
        "sampling_stdev = 2.0\n",
        "stdev = sampling_stdev * math.sqrt(n)\n",
        "\n",
        "cdf = 0.5 * (1 + math.erf((x - sampling_mean * n) / (stdev * math.sqrt(2))))\n",
        "\n",
        "print(round(cdf,4))"
      ],
      "execution_count": 6,
      "outputs": [
        {
          "output_type": "stream",
          "text": [
            "0.6915\n"
          ],
          "name": "stdout"
        }
      ]
    },
    {
      "cell_type": "markdown",
      "metadata": {
        "id": "E8bYteO_v4b_"
      },
      "source": [
        "Question 7\n",
        "\n",
        "Objective\n",
        "In this challenge, we practice solving problems based on the Central Limit Theorem. We recommend reviewing the Central Limit Theorem Tutorial before attempting this challenge.\n",
        "\n",
        "Task\n",
        "You have a sample of  values from a population with mean  and with standard deviation . Compute the interval that covers the middle  of the distribution of the sample mean; in other words, compute  and  such that . Use the value of . Note that  is the z-score.\n",
        "\n",
        "Input Format\n",
        "\n",
        "There are five lines of input (shown below):\n",
        "\n",
        "100\n",
        "500\n",
        "80\n",
        ".95\n",
        "1.96\n",
        "The first line contains the sample size. The second and third lines contain the respective mean () and standard deviation (). The fourth line contains the distribution percentage we want to cover (as a decimal), and the fifth line contains the value of .\n",
        "\n",
        "If you do not wish to read this information from stdin, you can hard-code it into your program.\n",
        "\n",
        "Output Format\n",
        "\n",
        "Print the following two lines of output, rounded to a scale of  decimal places (i.e.,  format):\n",
        "\n",
        "On the first line, print the value of .\n",
        "On the second line, print the value of ."
      ]
    },
    {
      "cell_type": "code",
      "metadata": {
        "colab": {
          "base_uri": "https://localhost:8080/"
        },
        "id": "kzk-iEcQupWQ",
        "outputId": "688c9061-0f91-43ec-aa0a-6eca7425c0ae"
      },
      "source": [
        "samples = float(input())\n",
        "mean = float(input())\n",
        "sd = float(input())\n",
        "interval = float(input())\n",
        "z = float (input())\n",
        "\n",
        "sd_sample = sd / (samples**0.5)\n",
        "print(round(mean - sd_sample*z,2))\n",
        "print(round(mean + sd_sample*z,2))"
      ],
      "execution_count": 7,
      "outputs": [
        {
          "output_type": "stream",
          "text": [
            "100\n",
            "500\n",
            "80\n",
            "0.95\n",
            "1.96\n",
            "484.32\n",
            "515.68\n"
          ],
          "name": "stdout"
        }
      ]
    },
    {
      "cell_type": "markdown",
      "metadata": {
        "id": "sXZH9OZ9wdxR"
      },
      "source": [
        "Question 8 \n",
        "Objective\n",
        "In this challenge, we practice calculating the Pearson correlation coefficient. Check out the Tutorial tab for learning materials!\n",
        "\n",
        "Task\n",
        "Given two -element data sets,  and , calculate the value of the Pearson correlation coefficient.\n",
        "\n",
        "Input Format\n",
        "\n",
        "The first line contains an integer, , denoting the size of data sets  and .\n",
        "The second line contains  space-separated real numbers (scaled to at most one decimal place), defining data set .\n",
        "The third line contains  space-separated real numbers (scaled to at most one decimal place), defining data set .\n",
        "\n",
        "Constraints\n",
        "\n",
        ", where  is the  value of data set .\n",
        ", where  is the  value of data set .\n",
        "Data set  contains unique values.\n",
        "Data set  contains unique values.\n",
        "Output Format\n",
        "\n",
        "Print the value of the Pearson correlation coefficient, rounded to a scale of  decimal places.\n",
        "\n",
        "Sample Input\n",
        "\n",
        "10\n",
        "10 9.8 8 7.8 7.7 7 6 5 4 2 \n",
        "200 44 32 24 22 17 15 12 8 4\n",
        "Sample Output\n",
        "\n",
        "0.612\n",
        "Explanation\n",
        "\n",
        "The mean and standard deviation of data set  are:\n",
        "\n",
        "The mean and standard deviation of data set  are:\n",
        "\n",
        "We use the following formula to calculate the Pearson correlation coefficient:\n",
        "\n"
      ]
    },
    {
      "cell_type": "code",
      "metadata": {
        "id": "rm0mkwgnxS0m"
      },
      "source": [
        "N = int(input())\n",
        "X = list(map(float,input().strip().split()))\n",
        "Y = list(map(float,input().strip().split()))\n",
        "\n",
        "mu_x = sum(X) / N\n",
        "mu_y = sum(Y) / N\n",
        "\n",
        "stdv_x = (sum([(i - mu_x)**2 for i in X]) / N)**0.5\n",
        "stdv_y = (sum([(i - mu_y)**2 for i in Y]) / N)**0.5\n",
        "\n",
        "correlation_coefficient = covariance / (N * stdv_x * stdv_y)\n",
        "\n",
        "print(round(correlation_coefficient,3))"
      ],
      "execution_count": null,
      "outputs": []
    },
    {
      "cell_type": "code",
      "metadata": {
        "colab": {
          "base_uri": "https://localhost:8080/"
        },
        "id": "Y_DYGKufwXNO",
        "outputId": "e8afec6b-4462-43b3-cacb-c05ce1476ad1"
      },
      "source": [
        "N = int(input())\n",
        "X = list(map(float,input().strip().split()))\n",
        "Y = list(map(float,input().strip().split()))\n",
        "\n",
        "#Pearson Correlation Coefficent\n",
        "print(round(sum([(X[i] - sum(X) / N) * (Y[i] -sum(Y) / N) for i in range(N)]) / (N * (sum([(i - (sum(X) / N))**2 for i in X]) / N)**0.5 * (sum([(i - (sum(Y) / N))**2 for i in Y]) / N)**0.5),3))"
      ],
      "execution_count": 11,
      "outputs": [
        {
          "output_type": "stream",
          "text": [
            "5\n",
            "10 9.8 8 7.8 7.7\n",
            "200 44 32 24 22\n",
            "0.734\n"
          ],
          "name": "stdout"
        }
      ]
    },
    {
      "cell_type": "markdown",
      "metadata": {
        "id": "4EwQSBhExsHz"
      },
      "source": [
        "Question 9 \n",
        "\n",
        "Objective\n",
        "In this challenge, we practice using linear regression techniques. Check out the Tutorial tab for learning materials!\n",
        "\n",
        "Task\n",
        "A group of five students enrolls in Statistics immediately after taking a Math aptitude test. Each student's Math aptitude test score, , and Statistics course grade, , can be expressed as the following list of  points:\n",
        "\n",
        "If a student scored an  on the Math aptitude test, what grade would we expect them to achieve in Statistics? Determine the equation of the best-fit line using the least squares method, then compute and print the value of  when .\n",
        "\n",
        "Input Format\n",
        "\n",
        "There are five lines of input; each line contains two space-separated integers describing a student's respective  and  grades:\n",
        "\n",
        "95 85\n",
        "85 95\n",
        "80 70\n",
        "70 65\n",
        "60 70\n",
        "If you do not wish to read this information from stdin, you can hard-code it into your program.\n",
        "\n",
        "Output Format\n",
        "\n",
        "Print a single line denoting the answer, rounded to a scale of  decimal places (i.e.,  format)."
      ]
    },
    {
      "cell_type": "code",
      "metadata": {
        "id": "480mAWX5xrVp"
      },
      "source": [
        "n = 5\n",
        "xy = [map(int, input().split()) for _ in range(n)]\n",
        "sx, sy, sx2, sxy = map(sum, zip(*[(x, y, x**2, x * y) for x, y in xy]))\n",
        "b = (n * sxy - sx * sy) / (n * sx2 - sx**2)\n",
        "a = (sy / n) - b * (sx / n)\n",
        "print('{:.3f}'.format(a + b * 80))"
      ],
      "execution_count": null,
      "outputs": []
    },
    {
      "cell_type": "markdown",
      "metadata": {
        "id": "WHkuo9K3zPDx"
      },
      "source": [
        "Question 10 \n",
        "Objective\n",
        "In this challenge, we practice using multiple linear regression. Check out the Tutorial tab for learning materials!\n",
        "\n",
        "Task\n",
        "Andrea has a simple equation:\n",
        "\n",
        "for  real constants (, , , , ). We can say that the value of  depends on  features. Andrea studies this equation for  different feature sets  and records each respective value of . If she has  new feature sets, can you help Andrea find the value of  for each of the sets?\n",
        "Note: You are not expected to account for bias and variance trade-offs.\n",
        "\n",
        "Input Format\n",
        "\n",
        "The first line contains  space-separated integers,  (the number of observed features) and  (the number of feature sets Andrea studied), respectively.\n",
        "Each of the  subsequent lines contain  space-separated decimals; the first  elements are features , and the last element is the value of  for the line's feature set.\n",
        "The next line contains a single integer, , denoting the number of feature sets Andrea wants to query for.\n",
        "Each of the  subsequent lines contains  space-separated decimals describing the feature sets.\n",
        "\n",
        "Constraints\n",
        "\n",
        "Scoring\n",
        "For each feature set in one test case, we will compute the following:\n",
        "\n",
        ". We will permit up to a  margin of error.\n",
        "The normalized score for each test case will be: . If the challenge is worth  points, then your score will be .\n",
        "\n",
        "Output Format\n",
        "\n",
        "For each of the  feature sets, print the value of  on a new line (i.e., you must print a total of  lines).\n",
        "\n",
        "Sample Input\n",
        "\n",
        "2 7\n",
        "0.18 0.89 109.85\n",
        "1.0 0.26 155.72\n",
        "0.92 0.11 137.66\n",
        "0.07 0.37 76.17\n",
        "0.85 0.16 139.75\n",
        "0.99 0.41 162.6\n",
        "0.87 0.47 151.77\n",
        "4\n",
        "0.49 0.18\n",
        "0.57 0.83\n",
        "0.56 0.64\n",
        "0.76 0.18\n",
        "Sample Output\n",
        "\n",
        "105.22\n",
        "142.68\n",
        "132.94\n",
        "129.71\n",
        "Explanation\n",
        "\n",
        "We're given , so . We're also given , so we determine that Andrea studied the following feature sets:\n",
        "\n",
        "We use the information above to find the values of , , and . Then, we find the value of  for each of the  feature sets."
      ]
    },
    {
      "cell_type": "code",
      "metadata": {
        "id": "NBBUtvZsxaMM"
      },
      "source": [
        "import numpy as np\n",
        "m,n = [int(i) for i in input().strip().split(' ')]\n",
        "X = []\n",
        "Y = []\n",
        "for i in range(n):\n",
        "    data = input().strip().split(' ')\n",
        "    X.append(data[:m])\n",
        "    Y.append(data[m:])\n",
        "q = int(input().strip())\n",
        "X_new = []\n",
        "for x in range(q):\n",
        "    X_new.append(input().strip().split(' '))\n",
        "X = np.array(X,float)\n",
        "Y = np.array(Y,float)\n",
        "X_new = np.array(X_new,float)\n",
        "\n",
        "#center\n",
        "X_R = X-np.mean(X,axis=0)\n",
        "Y_R = Y-np.mean(Y)\n",
        "\n",
        "#predict\n",
        "X_new_R = X_new-np.mean(X,axis=0)\n",
        "Y_new_R = np.dot(X_new_R,beta)\n",
        "Y_new = Y_new_R + np.mean(Y)\n",
        "\n",
        "#print\n",
        "for i in Y_new:\n",
        "    print(round(float(i),2))"
      ],
      "execution_count": null,
      "outputs": []
    }
  ]
}